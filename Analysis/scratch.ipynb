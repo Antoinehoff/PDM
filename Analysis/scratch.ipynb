{
 "cells": [
  {
   "cell_type": "markdown",
   "metadata": {},
   "source": [
    "# Scratch and old functions"
   ]
  },
  {
   "cell_type": "code",
   "execution_count": null,
   "metadata": {},
   "outputs": [],
   "source": [
    "#isochronous transform for one point i\n",
    "def isochronous_transform_process(t_serie, v_serie, dt, i) :\n",
    "    t_i  = i*dt\n",
    "    m  = 0\n",
    "    t1 = -1\n",
    "    while(t1 <= t_i) :\n",
    "        m += 1;\n",
    "        t1 = t_serie[m]\n",
    "    v1 = v_serie[m]\n",
    "    t0 = t_serie[m-1]\n",
    "    v0 = v_serie[m-1]\n",
    "    v_i  = lin_interp(v1,t1,v0,t0,t_i)\n",
    "    return v_i\n",
    "#parallel isochronous transform over iso time ti\n",
    "def parallel_isochronous_transform(t_serie, v_serie, dt) :\n",
    "    T_end    = t_serie[-1]\n",
    "    Nt_iso   = int(T_end/dt)-1\n",
    "    v_iso    = Parallel(n_jobs=-2)(\n",
    "        delayed(isochronous_transform_process)\n",
    "        (t_serie, v_serie, dt, i) for i in range(Nt_iso))\n",
    "    return v_iso"
   ]
  },
  {
   "cell_type": "code",
   "execution_count": null,
   "metadata": {},
   "outputs": [],
   "source": [
    "#Dictionnary to store isochronous transforms with various dt\n",
    "v_iso  = {}; vname = DIR+'Processed_data/v_iso.dat';\n",
    "t_iso  = {} #time (linspace(0,T,dt))\n",
    "Nt_iso = {} #number of points\n",
    "dt_iso = {}; dtname = DIR+'Processed_data/dt_iso.dat';\n",
    "RERUN  = True\n",
    "if  (os.path.isfile(vname) and os.path.isfile(dtname)) and (not RERUN) :\n",
    "    print('Load v_iso.dat...')\n",
    "    v_iso = Load_data(vname)\n",
    "    print('Load dt_iso.dat...')\n",
    "    dt_iso = Load_data(dtname)\n",
    "    print('Done.')\n",
    "RESAVE = False\n",
    "for key in vDNS :\n",
    "    if key not in v_iso :\n",
    "        N_ = int(0.001*len(tDNS[key]))\n",
    "        print(\"missing \" + key + \"data..\")\n",
    "        RESAVE = True\n",
    "        dt = dtDNS_mean[key]\n",
    "        start = time.time()\n",
    "        v_iso [key]  = parallel_isochronous_transform(tDNS_ssl[key][0:N_], vDNS_ssl[key][0:N_], dt)\n",
    "        Nt_iso[key]  = len(v_iso[key])\n",
    "        t_iso [key]  = np.linspace(0,dt*Nt_iso[key],Nt_iso[key])\n",
    "        dt_iso[key]  = [dt]\n",
    "        end = time.time()\n",
    "        print('\\tdt = '+str(dt))\n",
    "        print('\\t Nt_iso = '+str(Nt_iso[key]))\n",
    "        print('\\tTime needed \\t: '+str(end-start))\n",
    "if RESAVE :\n",
    "    print('Saving data...')\n",
    "    Save_data(v_iso,vname)\n",
    "    Save_data(dt_iso,dtname)\n",
    "    print('Done.')\n",
    "else : print('All data seem to be loaded.')"
   ]
  }
 ],
 "metadata": {
  "kernelspec": {
   "display_name": "Python 3",
   "language": "python",
   "name": "python3"
  },
  "language_info": {
   "codemirror_mode": {
    "name": "ipython",
    "version": 3
   },
   "file_extension": ".py",
   "mimetype": "text/x-python",
   "name": "python",
   "nbconvert_exporter": "python",
   "pygments_lexer": "ipython3",
   "version": "3.7.1"
  }
 },
 "nbformat": 4,
 "nbformat_minor": 2
}
