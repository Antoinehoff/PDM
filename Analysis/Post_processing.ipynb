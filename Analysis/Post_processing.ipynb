{
 "cells": [
  {
   "cell_type": "markdown",
   "metadata": {},
   "source": [
    "# Data processing and stochastic modelization"
   ]
  },
  {
   "cell_type": "code",
   "execution_count": 5,
   "metadata": {},
   "outputs": [],
   "source": [
    "#Numpy\n",
    "import numpy as np\n",
    "#Scipy\n",
    "from scipy import special as scsp\n",
    "from scipy import stats\n",
    "from numpy import random as rdm\n",
    "#Pyplot\n",
    "import matplotlib.pyplot as plt\n",
    "#Multi-CPU job\n",
    "from joblib import Parallel, delayed\n",
    "import multiprocessing as mpg\n",
    "#Time\n",
    "import time\n",
    "#Json\n",
    "import json\n",
    "#Os for file management\n",
    "import os.path\n",
    "\n",
    "#Home made functions\n",
    "import Utilities\n",
    "\n",
    "#####Reference values and ranges for filename generation#####\n",
    "UREF = 4.6E-06\n",
    "TREF = 2.92E+01\n",
    "RERUN = False #To rerun all computations (False will load from file if they exist)\n",
    "NCORES_MAX = -2 #Maximal number of cores in use\n",
    "extension = '.pdf' #fig file extension\n",
    "DIR  = 'D:/pdm_data/' #On desktop\n",
    "DIR  = 'C:/Users/Antoine/Documents/Etudes/Master CSE/PDM/data/' #On laptop\n",
    "CASE   = 'Bentheimer1000'"
   ]
  },
  {
   "cell_type": "code",
   "execution_count": 6,
   "metadata": {},
   "outputs": [],
   "source": [
    "#Skew-normal PDF\n",
    "def p_skew(v,sample) :\n",
    "    alpha = sample['alpha']\n",
    "    mu    = sample['mu']\n",
    "    sigma = sample['sigma']\n",
    "    p = 1/np.sqrt(2.0*np.pi*sigma**2)*np.exp(-(v-mu)**2/(2.0*sigma**2))*scsp.erfc(-alpha*(v-mu)/np.sqrt(2.0*sigma**2))\n",
    "    return p\n",
    "\n",
    "def Save_data(MP_dict, filename) :\n",
    "    #Copy data into non np array dict for json formating\n",
    "    No_np = {}\n",
    "    for key in MP_dict : No_np[key] = [v for v in MP_dict[key]]\n",
    "    with open(filename, 'w') as outfile:  \n",
    "        json.dump(No_np, outfile)\n",
    "    \n",
    "def Load_data(filename) :\n",
    "    MP_dict = {}\n",
    "    with open(filename, 'r') as outfile:  \n",
    "        MP_dict = json.load(outfile)\n",
    "    #Converting arrays in np array\n",
    "    for key in MP_dict : MP_dict[key] = np.array(MP_dict[key])\n",
    "    return MP_dict\n",
    "\n",
    "def Extract_param (fname, param) :\n",
    "    p_dict = {}\n",
    "    for p_ in param :\n",
    "        k  = 0\n",
    "        for i in range(len(DIR),len(fname)) :\n",
    "            if fname[i:i+len(p_)] == p_ :\n",
    "                k = i+len(p_)\n",
    "                break\n",
    "        v_ = ''\n",
    "        while (fname[k] != '_' and fname[k:k+2] != '.d') :\n",
    "            v_ += fname[k]\n",
    "            k  += 1\n",
    "        if v_ == 'Inf' : v_ = 0\n",
    "        p_dict[p_] = float(v_)\n",
    "    return p_dict\n",
    "\n",
    "def time_step_analysis(t_ssl,key) :\n",
    "    dt         = [t1-t0 for (t1,t0) in zip(t_ssl[1:],t_ssl[:-1]) if t1-t0 > 0]\n",
    "    dt_hist    = Extract_pdf(dt,50)\n",
    "    dtDNS_mean = np.mean(dt)\n",
    "    dtDNS_std  = np.std(dt)\n",
    "    return (key, dt_hist, dtDNS_mean, dtDNS_std)\n",
    "    \n",
    "def parallel_time_step_analysis(t_dict) :\n",
    "    dt_hist        = {}\n",
    "    dtDNS_mean     = {}\n",
    "    dtDNS_std      = {}\n",
    "    results  = Parallel(n_jobs=NCORES_MAX)(delayed(time_step_analysis)(t_dict[key],key) for key in KEYS)\n",
    "    for (k_,h_,m_,s_) in results :\n",
    "        dt_hist[k_]    = h_.tolist()\n",
    "        dtDNS_mean[k_] = [m_]\n",
    "        dtDNS_std[k_]  = [s_]\n",
    "    return dt_hist, dtDNS_mean, dtDNS_std\n",
    "\n",
    "## Some useful functions to handle pdf\n",
    "def Save_pdf(pdf_dict, filename) :\n",
    "    #Copy data into non np array dict for json formating\n",
    "    x = {}\n",
    "    y = {}\n",
    "    for key in pdf_dict : x[key] = [v for v in pdf_dict[key][0]]\n",
    "    for key in pdf_dict : y[key] = [v for v in pdf_dict[key][1]]\n",
    "    with open(filename, 'w') as outfile:  \n",
    "        json.dump([x,y], outfile)\n",
    "        \n",
    "def Load_pdf(filename) :\n",
    "    x = {}\n",
    "    y = {} \n",
    "    pdf_ = {}\n",
    "    with open(filename, 'r') as outfile:  \n",
    "        data = json.load(outfile)\n",
    "    x = data[0]\n",
    "    y = data[1]\n",
    "    for key in x : pdf_[key] = [np.array(x[key]),np.array(y[key])]    \n",
    "    return pdf_\n",
    "\n",
    "def Extract_pdf(data_, nbins = 500, dst = True) :\n",
    "    data_ = data_[~np.isnan(data_)]\n",
    "    pdf_ = np.histogram(data_, bins = nbins, density = dst);\n",
    "    pdf_ = np.array([pdf_[1][0:-1], pdf_[0]])\n",
    "    return pdf_\n",
    "\n",
    "def Return_mean(pdf_) :\n",
    "    x = pdf_[0]; y = pdf_[1];\n",
    "    return np.sum(x*y)/np.sum(y)\n",
    "\n",
    "def Return_std(pdf_) :\n",
    "    x    = pdf_[0]; y = pdf_[1];\n",
    "    mu = Return_mean(pdf_)\n",
    "    std  = np.sqrt(np.sum([(x_ - mu)**2*y_ for (x_,y_) in zip(x,y)])/np.sum(y))\n",
    "    return std\n",
    "\n",
    "def Return_skew(pdf_) :\n",
    "    x    = pdf_[0]; y = pdf_[1];\n",
    "    mu   = Return_mean(pdf_)\n",
    "    std  = Return_std(pdf_)\n",
    "    skew = np.sum([((x_ - mu)/std)**3*y_ for (x_,y_) in zip(x,y)])/np.sum(y)\n",
    "    return skew\n",
    "\n",
    "def mean_crossing_time(tdata) :\n",
    "    T_  = []\n",
    "    tm1 = 0\n",
    "    for t_ in tdata :\n",
    "        if tm1 > t_ : #If time is set to zero again (= end of the stream line)\n",
    "            T_.append(tm1)\n",
    "        tm1 = t_\n",
    "    N_  = len(T_)\n",
    "    mean_ = sum(T_)/N_\n",
    "    return mean_\n",
    "\n",
    "def v_to_s(v) :\n",
    "    if v == 0 :\n",
    "        return 'Inf'\n",
    "    else :\n",
    "        return '%.1E' % v\n",
    "\n",
    "def v_to_d(v) :\n",
    "    return '%.2f' % v\n",
    "    \n",
    "def v_to_pow(v) :\n",
    "    if v == 0 :\n",
    "        return r'$\\infty$'\n",
    "    else :\n",
    "        power  = int(np.log10(v))\n",
    "        factor = int(v/10.0**power)\n",
    "        if factor == 1.0 :\n",
    "            return r'$10^{'+str(power)+'}$'\n",
    "        else :\n",
    "            return str(factor)+r'$\\times 10^{'+str(power)+'}$'\n",
    "\n",
    "def print_keys(dict_) :\n",
    "    for key in dict_ : print(key)\n",
    "    return"
   ]
  },
  {
   "cell_type": "code",
   "execution_count": 7,
   "metadata": {},
   "outputs": [],
   "source": [
    "#Bentheimer 1000 parameters\n",
    "Bentheimer1000 ={\n",
    "'name'  :  'Bentheimer 1000',\n",
    "'L0'    :  3.0,      #Sample length [mm]\n",
    "'Deltax':  3.0,      #Resolution [um]\n",
    "'n'     :  1000,     #Nb of 1D points\n",
    "'L0/L'  :  22.6,     #Pore length ratio [-]\n",
    "'phi'   :  0.22,     #Porosity [%]\n",
    "'kappa' :  1.65,     #Tortuosity\n",
    "'lmbd/L':  8.32,     #Correlation length [-]\n",
    "#Theta angle model\n",
    "'omegat':  4.3,\n",
    "'taut'  :  0.12,\n",
    "'sigmat':  0.69,\n",
    "'mut'   :  38.0,\n",
    "#Beta angle model\n",
    "'taub'  :  0.13,\n",
    "'bb'    :  1.9,\n",
    "#Log velocity magnitude model\n",
    "'b'     :  0.57,\n",
    "'c'     :  1.3,\n",
    "'alpha' : -3.6,\n",
    "'mu'    :  1.5,\n",
    "'sigma' :  2.5\n",
    "}"
   ]
  },
  {
   "cell_type": "markdown",
   "metadata": {},
   "source": [
    "#### Data files "
   ]
  },
  {
   "cell_type": "code",
   "execution_count": 8,
   "metadata": {},
   "outputs": [
    {
     "name": "stdout",
     "output_type": "stream",
     "text": [
      "Dataset to load : 4\n"
     ]
    }
   ],
   "source": [
    "DATA = {}\n",
    "\n",
    "SAMPLE = 'Bentheimer 1000'\n",
    "PECLET = [0, 1e3, 1e2, 1e1]\n",
    "SLSM   = [20000, 20000, 20000, 20000]\n",
    "CSF    = [1, 1, 1, 1]\n",
    "KEYS   = []\n",
    "for (Pe_, slsm_, csf_) in zip(PECLET, SLSM, CSF) : \n",
    "    name_ = DIR+CASE+'/Particle_Tracking/sl_out_Pe'+v_to_s(Pe_)+'_SLSM'+v_to_s(slsm_)+'_TMAX0_CSF'+str(csf_)+'.dat'\n",
    "    key_  = 'Pe='+v_to_pow(Pe_)+', SLSM='+v_to_pow(slsm_)+', CSF='+str(csf_)\n",
    "    DATA[key_] = name_\n",
    "    KEYS.append(key_)\n",
    "\n",
    "PLOT_KEYS = KEYS\n",
    "\n",
    "color_cycle = plt.rcParams['axes.prop_cycle'].by_key()['color']\n",
    "print('Dataset to load : ' +str(len(DATA)))\n",
    "\n",
    "PARAM = {}\n",
    "param = ['Pe','SLSM','TMAX','CSF']\n",
    "for key in DATA : PARAM[key] = Extract_param (DATA[key], param)\n",
    "    \n",
    "for key in DATA :\n",
    "    if not os.path.isfile(DATA[key]) :\n",
    "        print('Warning file from key : ' + key + ' :')\n",
    "        print('\\t' + DATA[key])\n",
    "        print('not found')"
   ]
  },
  {
   "cell_type": "markdown",
   "metadata": {},
   "source": [
    "# Loading and processing DNS data"
   ]
  },
  {
   "cell_type": "markdown",
   "metadata": {},
   "source": [
    "##### Computing Ux mean from Eulerian velocities"
   ]
  },
  {
   "cell_type": "code",
   "execution_count": 9,
   "metadata": {},
   "outputs": [
    {
     "name": "stdout",
     "output_type": "stream",
     "text": [
      "=> Umean fortran = [2.4514361e-09]\t Umean dmc = [7.17953958e-09]\n"
     ]
    }
   ],
   "source": [
    "UMEAN = {}\n",
    "Ndat  = 1000\n",
    "if (not os.path.isfile(DIR+'Processed_data/UMEAN'+str(Ndat)+'.dat')) :\n",
    "    phi   = Bentheimer1000['phi']\n",
    "    print('-load ux data..')\n",
    "    ux    = np.loadtxt(DIR+'Bentheimer'+str(Ndat)+'/Ux.dat')\n",
    "    print('-Ux dimensions : '+str(np.shape(ux)))\n",
    " \n",
    "    #First method to find Umean (direct mesh computation)\n",
    "    print('-first method..')\n",
    "    Umean = np.mean(ux[:][0]) #Mean flow velocity as the mean over the first yz section of the domain\n",
    "    UMEAN['dmc'] = [Umean]\n",
    "\n",
    "    #Second method (From Fortran code)\n",
    "    print('-reshaping ux..')\n",
    "    uux = ux.reshape(Ndat**3)\n",
    "    del ux\n",
    "    Umean = 0\n",
    "    print('-second method..')\n",
    "    for (i2,i3) in zip(range(Ndat),range(Ndat)) :\n",
    "        i1 = 0\n",
    "        Umean += uux[Ndat*Ndat*i3 + Ndat*i2 + i1]\n",
    "    Umean = Umean/(Ndat**2)/phi\n",
    "    UMEAN['fortran'] = [Umean]\n",
    "    Save_data(UMEAN,DIR+'Processed_data/UMEAN'+str(Ndat)+'.dat')\n",
    "    del uux\n",
    "else :\n",
    "    UMEAN = Load_data(DIR+'Processed_data/UMEAN'+str(Ndat)+'.dat')\n",
    "    \n",
    "print('=> Umean fortran = ' + str(UMEAN['fortran']) + '\\t Umean dmc = ' + str(UMEAN['dmc']))\n",
    "Umean = UMEAN['fortran'][0]"
   ]
  },
  {
   "cell_type": "markdown",
   "metadata": {},
   "source": [
    "#### Computing log velocity magnitude $$v = \\ln{\\left(\\frac{\\sqrt{u_x^2 + u_y^2 + u_z^2}}{U}\\right)}$$"
   ]
  },
  {
   "cell_type": "code",
   "execution_count": null,
   "metadata": {},
   "outputs": [],
   "source": [
    "vDNS = {}; \n",
    "vfname    = DIR+'Processed_data/vDNS.dat'\n",
    "if os.path.isfile(vfname)    and (not RERUN) : \n",
    "    print('Loading vDNS..')\n",
    "    vDNS     = Load_data(vfname)"
   ]
  },
  {
   "cell_type": "code",
   "execution_count": null,
   "metadata": {},
   "outputs": [],
   "source": [
    "tDNS = {};    \n",
    "tfname    = DIR+'Processed_data/tDNS.dat'\n",
    "if os.path.isfile(tfname)    and (not RERUN) : \n",
    "    print('Loading tDNS..')\n",
    "    tDNS     = Load_data(tfname)"
   ]
  },
  {
   "cell_type": "code",
   "execution_count": 16,
   "metadata": {},
   "outputs": [
    {
     "name": "stdout",
     "output_type": "stream",
     "text": [
      "Loading dlDNS..\n"
     ]
    }
   ],
   "source": [
    "dlDNS = {};\n",
    "dlfname   = DIR+'Processed_data/dlDNS.dat'\n",
    "if os.path.isfile(dlfname)   and (not RERUN) : \n",
    "    print('Loading dlDNS..')\n",
    "    dlDNS    = Load_data(dlfname)"
   ]
  },
  {
   "cell_type": "code",
   "execution_count": null,
   "metadata": {},
   "outputs": [],
   "source": [
    "thetaDNS = {};\n",
    "thetafname= DIR+'Processed_data/thetaDNS.dat'\n",
    "if os.path.isfile(thetafname)and (not RERUN) :\n",
    "    print('Loading thetaDNS..')\n",
    "    thetaDNS = Load_data(thetafname)"
   ]
  },
  {
   "cell_type": "code",
   "execution_count": 10,
   "metadata": {},
   "outputs": [],
   "source": [
    "thetaDNS_signed = {};\n",
    "theta_signedfname= DIR+'Processed_data/thetaDNS_signed.dat'\n",
    "if os.path.isfile(theta_signedfname)and (not True) :\n",
    "    print('Loading thetaDNS_signed..')\n",
    "    thetaDNS_signed = Load_data(theta_signedfname)"
   ]
  },
  {
   "cell_type": "code",
   "execution_count": 11,
   "metadata": {},
   "outputs": [
    {
     "name": "stdout",
     "output_type": "stream",
     "text": [
      "Checking if new data file...\n",
      "Opening dataDNS..\n",
      "Time needed : 1767.839120388031\n",
      "Pe=$\\infty$, SLSM=2$\\times 10^{4}$, CSF=1\n",
      "Computing theta\n",
      "Negative theta\n",
      "Negative theta\n",
      "Negative theta\n",
      "Negative theta\n",
      "Negative theta\n",
      "Negative theta\n",
      "Negative theta\n",
      "Negative theta\n",
      "Negative theta\n",
      "Negative theta\n",
      "Negative theta\n",
      "Negative theta\n",
      "Negative theta\n",
      "Negative theta\n",
      "Negative theta\n",
      "Negative theta\n",
      "Negative theta\n",
      "Negative theta\n",
      "Negative theta\n",
      "Negative theta\n",
      "Negative theta\n",
      "Negative theta\n",
      "Negative theta\n",
      "Negative theta\n",
      "Negative theta\n",
      "Negative theta\n",
      "Negative theta\n",
      "Negative theta\n",
      "Negative theta\n",
      "Negative theta\n",
      "Negative theta\n",
      "Negative theta\n",
      "Negative theta\n",
      "Negative theta\n",
      "Negative theta\n",
      "Negative theta\n",
      "Negative theta\n",
      "Negative theta\n",
      "Negative theta\n",
      "Negative theta\n",
      "Negative theta\n",
      "Negative theta\n",
      "Negative theta\n",
      "Negative theta\n",
      "Negative theta\n",
      "Negative theta\n",
      "Negative theta\n",
      "Negative theta\n",
      "Negative theta\n",
      "Negative theta\n",
      "Negative theta\n",
      "Negative theta\n",
      "Negative theta\n",
      "Negative theta\n",
      "Negative theta\n",
      "Negative theta\n",
      "Negative theta\n",
      "Negative theta\n",
      "Negative theta\n",
      "Negative theta\n",
      "Negative theta\n",
      "Negative theta\n",
      "Negative theta\n",
      "Negative theta\n",
      "Negative theta\n",
      "Negative theta\n",
      "Negative theta\n",
      "Negative theta\n",
      "Negative theta\n",
      "Negative theta\n",
      "Negative theta\n",
      "Negative theta\n",
      "Negative theta\n",
      "Negative theta\n",
      "Negative theta\n",
      "Negative theta\n",
      "Negative theta\n",
      "Negative theta\n",
      "Negative theta\n",
      "Negative theta\n",
      "Negative theta\n",
      "Negative theta\n",
      "Negative theta\n",
      "Negative theta\n",
      "Negative theta\n",
      "Negative theta\n",
      "Negative theta\n",
      "Negative theta\n",
      "Negative theta\n",
      "Negative theta\n",
      "Negative theta\n",
      "Negative theta\n",
      "Negative theta\n",
      "Negative theta\n",
      "Negative theta\n",
      "Negative theta\n",
      "Negative theta\n",
      "Negative theta\n",
      "Negative theta\n",
      "Negative theta\n",
      "Negative theta\n",
      "Negative theta\n",
      "Negative theta\n",
      "Negative theta\n",
      "Negative theta\n",
      "Negative theta\n",
      "Negative theta\n",
      "Negative theta\n",
      "Negative theta\n",
      "Negative theta\n",
      "Negative theta\n",
      "Negative theta\n",
      "Negative theta\n",
      "Negative theta\n",
      "Negative theta\n",
      "Negative theta\n",
      "Negative theta\n",
      "Negative theta\n",
      "Negative theta\n",
      "Negative theta\n",
      "Negative theta\n",
      "Negative theta\n",
      "Negative theta\n",
      "Negative theta\n",
      "Negative theta\n",
      "Negative theta\n",
      "Negative theta\n",
      "Negative theta\n",
      "Negative theta\n",
      "Negative theta\n",
      "Negative theta\n",
      "Negative theta\n",
      "Negative theta\n",
      "Negative theta\n",
      "Negative theta\n",
      "Negative theta\n",
      "Negative theta\n",
      "Negative theta\n",
      "Negative theta\n",
      "Negative theta\n",
      "Negative theta\n",
      "Negative theta\n",
      "Negative theta\n",
      "Negative theta\n",
      "Negative theta\n",
      "Negative theta\n",
      "Negative theta\n",
      "Negative theta\n",
      "Negative theta\n",
      "Negative theta\n",
      "Negative theta\n",
      "Negative theta\n",
      "Negative theta\n",
      "Negative theta\n",
      "Negative theta\n",
      "Negative theta\n",
      "Negative theta\n",
      "Negative theta\n",
      "Negative theta\n",
      "Negative theta\n",
      "Negative theta\n",
      "Negative theta\n",
      "Negative theta\n",
      "Negative theta\n",
      "Negative theta\n",
      "Negative theta\n",
      "Negative theta\n",
      "Negative theta\n",
      "Negative theta\n",
      "Negative theta\n",
      "Negative theta\n",
      "Negative theta\n",
      "Negative theta\n",
      "Negative theta\n",
      "Negative theta\n",
      "Negative theta\n",
      "Negative theta\n",
      "Negative theta\n",
      "Negative theta\n",
      "Negative theta\n",
      "Negative theta\n",
      "Negative theta\n",
      "Negative theta\n",
      "Negative theta\n",
      "Negative theta\n",
      "Negative theta\n",
      "Negative theta\n",
      "Negative theta\n",
      "Negative theta\n",
      "Negative theta\n",
      "Negative theta\n",
      "Negative theta\n",
      "Negative theta\n",
      "Negative theta\n",
      "Negative theta\n",
      "Negative theta\n",
      "Negative theta\n",
      "Negative theta\n",
      "Negative theta\n",
      "Negative theta\n",
      "Negative theta\n",
      "Negative theta\n",
      "Negative theta\n",
      "Negative theta\n",
      "Negative theta\n",
      "Negative theta\n",
      "Negative theta\n",
      "Negative theta\n",
      "Negative theta\n",
      "Negative theta\n",
      "Negative theta\n",
      "Negative theta\n",
      "Negative theta\n",
      "Negative theta\n",
      "Negative theta\n",
      "Negative theta\n",
      "Negative theta\n",
      "Negative theta\n",
      "Negative theta\n",
      "Negative theta\n",
      "Negative theta\n",
      "Negative theta\n",
      "Negative theta\n",
      "Negative theta\n",
      "Negative theta\n",
      "Negative theta\n",
      "Negative theta\n",
      "Negative theta\n",
      "Negative theta\n",
      "Negative theta\n",
      "Negative theta\n",
      "Negative theta\n",
      "Negative theta\n",
      "Negative theta\n",
      "Negative theta\n",
      "Negative theta\n",
      "Negative theta\n",
      "Negative theta\n",
      "Negative theta\n",
      "Negative theta\n",
      "Negative theta\n",
      "Negative theta\n",
      "Negative theta\n",
      "Negative theta\n",
      "Negative theta\n",
      "Negative theta\n",
      "Negative theta\n",
      "Negative theta\n",
      "Negative theta\n",
      "Negative theta\n",
      "Negative theta\n",
      "Negative theta\n",
      "Negative theta\n",
      "Negative theta\n",
      "Negative theta\n",
      "Negative theta\n",
      "Negative theta\n",
      "Negative theta\n",
      "Negative theta\n",
      "Negative theta\n",
      "Negative theta\n",
      "Negative theta\n",
      "Negative theta\n",
      "Negative theta\n",
      "Negative theta\n",
      "Negative theta\n",
      "Negative theta\n",
      "Negative theta\n",
      "Negative theta\n",
      "Negative theta\n",
      "Negative theta\n",
      "Negative theta\n",
      "Negative theta\n",
      "Negative theta\n",
      "Negative theta\n",
      "Negative theta\n",
      "Negative theta\n",
      "Negative theta\n",
      "Negative theta\n",
      "Negative theta\n",
      "Negative theta\n",
      "Negative theta\n",
      "Negative theta\n",
      "Negative theta\n",
      "Negative theta\n",
      "Negative theta\n",
      "Negative theta\n",
      "Negative theta\n",
      "Negative theta\n",
      "Negative theta\n",
      "Negative theta\n",
      "Negative theta\n",
      "Negative theta\n",
      "Negative theta\n",
      "Negative theta\n",
      "Negative theta\n",
      "Negative theta\n",
      "Negative theta\n",
      "Negative theta\n",
      "Negative theta\n",
      "Negative theta\n",
      "Negative theta\n",
      "Negative theta\n",
      "Negative theta\n",
      "Negative theta\n",
      "Negative theta\n",
      "Negative theta\n",
      "Negative theta\n",
      "Negative theta\n",
      "Negative theta\n",
      "Negative theta\n",
      "Negative theta\n",
      "Negative theta\n",
      "Negative theta\n",
      "Negative theta\n",
      "Negative theta\n",
      "Negative theta\n",
      "Negative theta\n",
      "Negative theta\n",
      "Negative theta\n",
      "Negative theta\n",
      "Negative theta\n",
      "Negative theta\n",
      "Negative theta\n",
      "Negative theta\n",
      "Negative theta\n",
      "Negative theta\n",
      "Negative theta\n",
      "Negative theta\n",
      "Negative theta\n",
      "Negative theta\n",
      "Negative theta\n",
      "Negative theta\n",
      "Negative theta\n",
      "Negative theta\n",
      "Negative theta\n",
      "Negative theta\n",
      "Negative theta\n",
      "Negative theta\n",
      "Negative theta\n",
      "Negative theta\n",
      "Negative theta\n",
      "Negative theta\n",
      "Negative theta\n",
      "Negative theta\n",
      "Negative theta\n",
      "Negative theta\n",
      "Negative theta\n",
      "Negative theta\n",
      "Negative theta\n",
      "Negative theta\n",
      "Negative theta\n",
      "Negative theta\n",
      "Negative theta\n",
      "Negative theta\n",
      "Negative theta\n",
      "Negative theta\n",
      "Negative theta\n",
      "Negative theta\n",
      "Negative theta\n",
      "Negative theta\n",
      "Negative theta\n",
      "Negative theta\n",
      "Negative theta\n",
      "Negative theta\n",
      "Negative theta\n",
      "Negative theta\n",
      "Negative theta\n",
      "Negative theta\n",
      "Negative theta\n",
      "Negative theta\n",
      "Negative theta\n",
      "Negative theta\n",
      "Negative theta\n",
      "Negative theta\n",
      "Negative theta\n",
      "Negative theta\n",
      "Negative theta\n",
      "Negative theta\n",
      "Negative theta\n",
      "Negative theta\n",
      "Negative theta\n",
      "Negative theta\n",
      "Negative theta\n",
      "Negative theta\n",
      "Negative theta\n",
      "Negative theta\n",
      "Negative theta\n",
      "Negative theta\n",
      "Negative theta\n",
      "Negative theta\n",
      "Negative theta\n",
      "Negative theta\n",
      "Negative theta\n",
      "Negative theta\n",
      "Negative theta\n",
      "Negative theta\n",
      "Negative theta\n",
      "Negative theta\n",
      "Negative theta\n",
      "Negative theta\n",
      "Negative theta\n",
      "Negative theta\n",
      "Negative theta\n",
      "Negative theta\n",
      "Negative theta\n",
      "Negative theta\n",
      "Negative theta\n",
      "Negative theta\n",
      "Negative theta\n",
      "Negative theta\n",
      "Negative theta\n",
      "Negative theta\n",
      "Negative theta\n",
      "Negative theta\n",
      "Negative theta\n",
      "Negative theta\n",
      "Negative theta\n",
      "Negative theta\n",
      "Negative theta\n",
      "Negative theta\n",
      "Negative theta\n",
      "Negative theta\n",
      "Negative theta\n",
      "Negative theta\n",
      "Negative theta\n",
      "Negative theta\n",
      "Negative theta\n",
      "Negative theta\n",
      "Negative theta\n",
      "Negative theta\n",
      "Negative theta\n",
      "Negative theta\n",
      "Negative theta\n",
      "Negative theta\n",
      "Negative theta\n",
      "Negative theta\n",
      "Negative theta\n",
      "Negative theta\n",
      "Negative theta\n",
      "Negative theta\n",
      "Negative theta\n",
      "Negative theta\n",
      "Negative theta\n",
      "Negative theta\n",
      "Negative theta\n",
      "Negative theta\n",
      "Negative theta\n",
      "Negative theta\n",
      "Negative theta\n",
      "Negative theta\n",
      "Negative theta\n",
      "Negative theta\n",
      "Negative theta\n",
      "Negative theta\n",
      "Negative theta\n",
      "Negative theta\n",
      "Negative theta\n",
      "Negative theta\n",
      "Negative theta\n",
      "Negative theta\n",
      "Negative theta\n",
      "Negative theta\n",
      "Negative theta\n",
      "Negative theta\n",
      "Negative theta\n",
      "Negative theta\n",
      "Negative theta\n",
      "Negative theta\n",
      "Negative theta\n",
      "Negative theta\n",
      "Negative theta\n",
      "Negative theta\n",
      "Negative theta\n",
      "Negative theta\n",
      "Negative theta\n",
      "Negative theta\n",
      "Negative theta\n",
      "Negative theta\n",
      "Negative theta\n",
      "Negative theta\n",
      "Negative theta\n",
      "Negative theta\n",
      "Negative theta\n",
      "Negative theta\n",
      "Negative theta\n",
      "Negative theta\n",
      "Negative theta\n",
      "Negative theta\n",
      "Negative theta\n",
      "Negative theta\n",
      "Negative theta\n",
      "Negative theta\n",
      "Negative theta\n",
      "Negative theta\n",
      "Negative theta\n",
      "Negative theta\n",
      "Negative theta\n",
      "Negative theta\n",
      "Negative theta\n",
      "Negative theta\n",
      "Negative theta\n",
      "Negative theta\n",
      "Negative theta\n",
      "Negative theta\n",
      "Negative theta\n",
      "Negative theta\n",
      "Negative theta\n",
      "Negative theta\n",
      "Negative theta\n",
      "Negative theta\n",
      "Negative theta\n",
      "Negative theta\n",
      "Negative theta\n",
      "Negative theta\n",
      "Negative theta\n",
      "Negative theta\n",
      "Negative theta\n",
      "Time needed : 449.745974779129\n",
      "Saving theta signed...\n",
      "Done.\n"
     ]
    }
   ],
   "source": [
    "print('Checking if new data file...')\n",
    "U = np.array([1,0,0])\n",
    "SAVE_THETA = False\n",
    "for key in KEYS[:1] :\n",
    "    print('Opening dataDNS..')\n",
    "    start = time.time()\n",
    "    with open(DATA[key], 'r') as f:\n",
    "        dataDNS = np.loadtxt((line for line in f if (len(line)>100 and len(line)<150))) \n",
    "    print('Time needed : ' + str(time.time()-start))\n",
    "    ## Signed theta angle\n",
    "    print(key)\n",
    "    SAVE_THETA = True\n",
    "    print('Computing theta')\n",
    "    start = time.time()\n",
    "    thetaDNS_signed[key] = np.zeros(len(dataDNS[:,0]))\n",
    "    thetaDNS_signed[key][0] = np.arccos(dataDNS[0,4]/np.sqrt(dataDNS[0,4]**2+dataDNS[0,5]**2+dataDNS[0,6]**2))\n",
    "    sgn0 = +1\n",
    "    sgn  = +1\n",
    "    for i in range(1,len(dataDNS[:,0])) :\n",
    "        u0 = dataDNS[i-1,4:7] #previous velocity\n",
    "        u1 = dataDNS[i,4:7] #actual velocity\n",
    "        sgn1 = 1-2*(np.dot(u1,u0)<0) #sign of theta sgn(u1 * ([U x u0] x U))\n",
    "        if sgn1 != sgn0 : \n",
    "            print('Negative theta')\n",
    "            sgn *= -1\n",
    "        thetaDNS_signed[key][i] = sgn * np.arccos(u1[0]/np.sqrt(np.dot(u1,u1))) #theta\n",
    "        sgn0 = sgn1\n",
    "    print('Time needed : ' + str(time.time()-start))\n",
    "if SAVE_THETA :\n",
    "    print('Saving theta signed...')\n",
    "    Save_data(thetaDNS_signed,theta_signedfname)    \n",
    "print('Done.') "
   ]
  },
  {
   "cell_type": "code",
   "execution_count": null,
   "metadata": {},
   "outputs": [],
   "source": [
    "dataDNS = {} #Free memspace"
   ]
  },
  {
   "cell_type": "code",
   "execution_count": 7,
   "metadata": {},
   "outputs": [
    {
     "name": "stdout",
     "output_type": "stream",
     "text": [
      "Loading vDNS..\n",
      "Loading tDNS..\n",
      "Loading dlDNS..\n",
      "Loading thetaDNS..\n"
     ]
    }
   ],
   "source": [
    "pvx_DNS = {}; pdfvxfname = DIR+'Processed_data/pdf_vx.dat'\n",
    "pvy_DNS = {}; pdfvyfname = DIR+'Processed_data/pdf_vy.dat'\n",
    "pvz_DNS = {}; pdfvzfname = DIR+'Processed_data/pdf_vz.dat'\n",
    "if os.path.isfile(pdfvxfname) and (not RERUN):  pvx_DNS = Load_pdf(pdfvxfname)\n",
    "if os.path.isfile(pdfvyfname) and (not RERUN):  pvy_DNS = Load_pdf(pdfvyfname)\n",
    "if os.path.isfile(pdfvzfname) and (not RERUN):  pvz_DNS = Load_pdf(pdfvzfname)"
   ]
  },
  {
   "cell_type": "code",
   "execution_count": 11,
   "metadata": {},
   "outputs": [
    {
     "name": "stdout",
     "output_type": "stream",
     "text": [
      "Pe=$\\infty$, SLSM=2$\\times 10^{4}$, CSF=1\n"
     ]
    }
   ],
   "source": []
  },
  {
   "cell_type": "code",
   "execution_count": 8,
   "metadata": {},
   "outputs": [
    {
     "name": "stdout",
     "output_type": "stream",
     "text": [
      "Checking if new data file...\n",
      "Done.\n",
      "Pe=$\\infty$, SLSM=2$\\times 10^{4}$, CSF=1\n",
      "Pe=$10^{3}$, SLSM=2$\\times 10^{4}$, CSF=1\n",
      "Pe=$10^{2}$, SLSM=2$\\times 10^{4}$, CSF=1\n",
      "Pe=$10^{1}$, SLSM=2$\\times 10^{4}$, CSF=1\n"
     ]
    }
   ],
   "source": [
    "print('Checking if new data file...')\n",
    "SAVE_LVM   = False\n",
    "SAVE_DLDNS = False\n",
    "SAVE_THETA = False\n",
    "SAVE_PDF   = False\n",
    "for key in KEYS :\n",
    "    if (key not in vDNS) or (key not in pvx_DNS) or (key not in dlDNS) or (key not in thetaDNS) :\n",
    "        print(key+' not found..')\n",
    "        RESAVE = True\n",
    "        with open(DATA[key], 'r') as f:\n",
    "            dataDNS = np.loadtxt((line for line in f if (len(line)>100 and len(line)<150)))\n",
    "        tDNS[key] = dataDNS[:,0]\n",
    "        print(key + '\\t: NtDNS = '+str(len(tDNS[key])))\n",
    "            \n",
    "        ## LVM\n",
    "        if (key not in vDNS) :\n",
    "            print(\"missing \" + key + \" in LVM ..\")\n",
    "            SAVE_LVM = True\n",
    "            vDNS[key] = np.array(\n",
    "                [np.log(np.sqrt(ux**2+uy**2+uz**2)) \n",
    "                    for (ux,uy,uz) in zip(dataDNS[:,4], dataDNS[:,5], dataDNS[:,6]) \n",
    "                    if np.sqrt(ux**2+uy**2+uz**2) > 0])  \n",
    "            #vDNS[key] = np.array(np.log(np.sqrt(dataDNS[:,4]**2+dataDNS[:,5]**2+dataDNS[:,6]**2))\n",
    "        \n",
    "        ## Traveled distance dl\n",
    "        if (key not in dlDNS) :\n",
    "            print(\"missing \" + key + \" in dlDNS ..\")\n",
    "            SAVE_DLDNS = True\n",
    "            dlDNS[key] = np.abs(np.sqrt(dataDNS[1:,1]**2+dataDNS[1:,2]**2+dataDNS[1:,3]**2) - np.sqrt(dataDNS[:-1,1]**2+dataDNS[:-1,2]**2+dataDNS[:-1,3]**2))\n",
    "        \n",
    "        ## Theta angle\n",
    "        if (key not in thetaDNS) :\n",
    "            SAVE_THETA = True\n",
    "            thetaDNS[key] = np.arccos(dataDNS[:,4]/np.sqrt(dataDNS[:,4]**2+dataDNS[:,5]**2+dataDNS[:,6]**2))\n",
    "            \n",
    "        ## DIRECTIONAL PDFs\n",
    "        if (key not in pvx_DNS) :\n",
    "            print(\"missing \" + key + \" in PDF ..\")\n",
    "            SAVE_PDF = True\n",
    "            pvx_DNS[key] = Extract_pdf(dataDNS[:,4]/Umean)\n",
    "            pvy_DNS[key] = Extract_pdf(dataDNS[:,5]/Umean)\n",
    "            pvz_DNS[key] = Extract_pdf(dataDNS[:,6]/Umean)\n",
    "        \n",
    "        #free memspace\n",
    "        del dataDNS\n",
    "        \n",
    "if SAVE_LVM :\n",
    "    print('Saving LVM...')\n",
    "    Save_data(vDNS,vfname)\n",
    "    Save_data(tDNS,tfname)\n",
    "if SAVE_DLDNS :\n",
    "    print('Saving dlDNS...')\n",
    "    Save_data(dlDNS,dlfname)\n",
    "if SAVE_THETA :\n",
    "    print('Saving theta...')\n",
    "    Save_data(thetaDNS,thetafname)    \n",
    "if SAVE_PDF :\n",
    "    print('Saving PDF..')\n",
    "    Save_pdf(pvx_DNS,pdfvxfname)\n",
    "    Save_pdf(pvy_DNS,pdfvyfname)\n",
    "    Save_pdf(pvz_DNS,pdfvzfname)\n",
    "print('Done.') \n",
    "for key in pvx_DNS : print(key)"
   ]
  },
  {
   "cell_type": "code",
   "execution_count": 24,
   "metadata": {},
   "outputs": [
    {
     "data": {
      "text/plain": [
       "[<matplotlib.lines.Line2D at 0x2187c77c358>]"
      ]
     },
     "execution_count": 24,
     "metadata": {},
     "output_type": "execute_result"
    },
    {
     "data": {
      "image/png": "[encoded data removed]",
      "text/plain": [
       "<Figure size 432x288 with 1 Axes>"
      ]
     },
     "metadata": {
      "needs_background": "light"
     },
     "output_type": "display_data"
    }
   ],
   "source": [
    "plt.plot(thetaDNS_signed[KEYS[0]][10000:10800])"
   ]
  },
  {
   "cell_type": "markdown",
   "metadata": {},
   "source": [
    "#### Overview of the rough DNS time"
   ]
  },
  {
   "cell_type": "code",
   "execution_count": 8,
   "metadata": {},
   "outputs": [
    {
     "data": {
      "image/png": "[encoded data removed]",
      "text/plain": [
       "<Figure size 360x288 with 1 Axes>"
      ]
     },
     "metadata": {
      "needs_background": "light"
     },
     "output_type": "display_data"
    }
   ],
   "source": [
    "fig, axs = plt.subplots(1,1, figsize=(5,4), sharey = True)\n",
    "\n",
    "ax = axs\n",
    "ax.set_title('Evolution of time with steps');\n",
    "for key in PLOT_KEYS : ax.plot(tDNS[key][range(100)],'.--', label = key);\n",
    "ax.set_xlabel('step');\n",
    "ax.set_ylabel('t');\n",
    "ax.legend();"
   ]
  },
  {
   "cell_type": "markdown",
   "metadata": {},
   "source": [
    "## Making DNS data isochronous"
   ]
  },
  {
   "cell_type": "markdown",
   "metadata": {},
   "source": [
    "### Single streamline transform (ssl)"
   ]
  },
  {
   "cell_type": "code",
   "execution_count": 19,
   "metadata": {},
   "outputs": [],
   "source": [
    "def ssl_transform_old(N,t,v) :\n",
    "    dt      = [t1-t0 for (t1,t0) in zip(t[range(1,N)],t[range(N-1)])]\n",
    "    dt_ssl  = [dt_ for dt_ in dt if dt_ > 0] #filtering step between two s.l.\n",
    "    N_ssl   = len(dt_ssl)\n",
    "    t_ssl   = np.zeros(N_ssl)\n",
    "    v_ssl   = np.zeros(N_ssl)\n",
    "    #t_ssl  = [t_ssl[i-1] + dt_ssl[i] for i in range(1,N_ssl)]\n",
    "    T = 0.0\n",
    "    for i in range(N_ssl) :\n",
    "        t_ssl[i] = T\n",
    "        T += dt_ssl[i]\n",
    "        v_ssl[i] = v[i]\n",
    "    return t_ssl, v_ssl\n",
    "\n",
    "def ssl_transform_new(N,tDNS,vDNS) :\n",
    "    t_ssl   = []\n",
    "    v_ssl   = []\n",
    "    told    = 0.0\n",
    "    T       = 0.0\n",
    "    for  (t_,v_) in zip(tDNS,vDNS) :\n",
    "        if t_ >= told :\n",
    "            T += t_ - told\n",
    "            t_ssl.append(T)\n",
    "            v_ssl.append(v_)\n",
    "        told = t_\n",
    "    return np.array(t_ssl), np.array(v_ssl)"
   ]
  },
  {
   "cell_type": "markdown",
   "metadata": {},
   "source": [
    "#### Distribution of time step "
   ]
  },
  {
   "cell_type": "code",
   "execution_count": 10,
   "metadata": {},
   "outputs": [
    {
     "name": "stdout",
     "output_type": "stream",
     "text": [
      "Loading data...\n",
      "Done.\n"
     ]
    }
   ],
   "source": [
    "dt_histfname = DIR+'Processed_data/dt_hist.dat'\n",
    "dtmeanfname  = DIR+'Processed_data/dt_mean.dat'\n",
    "dtstdfname   = DIR+'Processed_data/dt_std.dat'\n",
    "dt_hist = {}; dtDNS_mean = {}; dtDNS_std = {};\n",
    "print('Loading data...')\n",
    "if os.path.isfile(dt_histfname) : dt_hist    = Load_pdf(dt_histfname)\n",
    "if os.path.isfile(dtmeanfname)  : dtDNS_mean = Load_data(dtmeanfname)\n",
    "if os.path.isfile(dtstdfname)   : dtDNS_std  = Load_data(dtstdfname)\n",
    "print('Done.')\n",
    "\n",
    "RESAVE = False\n",
    "for key in tDNS :\n",
    "    if (key not in dt_hist) or (key not in dtDNS_mean) or (key not in dtDNS_std) :\n",
    "        RESAVE = True\n",
    "        print(\"missing \" + key + \" data..\")        \n",
    "        k_,h_,m_,s_ = time_step_analysis(tDNS[key],key)\n",
    "        dt_hist[key]    = h_.tolist()\n",
    "        dtDNS_mean[key] = [m_]\n",
    "        dtDNS_std[key]  = [s_]\n",
    "        \n",
    "if RESAVE :\n",
    "    print('Saving '+dt_histfname+'...')\n",
    "    Save_pdf(dt_hist,dt_histfname)\n",
    "    print('Saving '+dtmeanfname+'...')\n",
    "    Save_data(dtDNS_mean,dtmeanfname)\n",
    "    print('Saving '+dtstdfname+'...')\n",
    "    Save_data(dtDNS_std,dtstdfname)\n",
    "    print('Done.') "
   ]
  },
  {
   "cell_type": "code",
   "execution_count": 11,
   "metadata": {},
   "outputs": [
    {
     "data": {
      "image/png": "[encoded data removed]",
      "text/plain": [
       "<Figure size 360x288 with 1 Axes>"
      ]
     },
     "metadata": {
      "needs_background": "light"
     },
     "output_type": "display_data"
    }
   ],
   "source": [
    "fig, axs = plt.subplots(1,1,figsize=(5,4))\n",
    "ax = axs\n",
    "k_ = 0\n",
    "for key in PLOT_KEYS:\n",
    "    ax.plot(dt_hist[key][0],dt_hist[key][1], label = key, color = color_cycle[k_])\n",
    "    ax.plot(np.ones(2) * dtDNS_mean[key],np.linspace(0,500,2),'--', color = color_cycle[k_])\n",
    "    k_ += 1\n",
    "ax.set_title('Distribution of time step');\n",
    "ax.set_xlabel('dt')\n",
    "ax.set_ylabel('p(dt)')\n",
    "ax.set_xscale('log')\n",
    "ax.set_yscale('log')\n",
    "ax.legend();"
   ]
  },
  {
   "cell_type": "code",
   "execution_count": 12,
   "metadata": {},
   "outputs": [
    {
     "data": {
      "image/png": "[encoded data removed]",
      "text/plain": [
       "<Figure size 360x288 with 1 Axes>"
      ]
     },
     "metadata": {
      "needs_background": "light"
     },
     "output_type": "display_data"
    }
   ],
   "source": [
    "fig, axs = plt.subplots(1,1,figsize=(5,4))\n",
    "ax = axs\n",
    "ax.set_title('Mean dt value')\n",
    "ax.plot(PECLET[1:],[dtDNS_mean[k_] for k_ in KEYS[1:]],'ob')\n",
    "ax.plot([0.1, 1000],[dtDNS_mean[KEYS[0]] for k_ in [0.1, 1000]],'--b', alpha = 0.5, label = 'Pe = '+v_to_pow(PECLET[0]))\n",
    "x_ = np.linspace(0.1,100, 10)\n",
    "y_ = 2*x_*(3e-6/UREF/TREF)**2\n",
    "ax.plot(x_,y_,'-.k', alpha = 0.4, label = r'$dt_D(\\mathrm{Pe})$')\n",
    "ax.plot()\n",
    "ax.set_xscale('log')\n",
    "ax.set_yscale('log')\n",
    "ax.set_xlabel(r'Pe')\n",
    "ax.set_ylabel(r'$\\langle dt \\rangle$')\n",
    "ax.legend()\n",
    "plt.savefig(DIR+'Figures/DNS_dt_distribution'+extension)"
   ]
  },
  {
   "cell_type": "markdown",
   "metadata": {},
   "source": [
    "#### Isochronous transform of DNS data"
   ]
  },
  {
   "cell_type": "code",
   "execution_count": 12,
   "metadata": {},
   "outputs": [],
   "source": [
    "#pointwise linear interpolation\n",
    "def lin_interp(v1,t1,v0,t0,t) :\n",
    "    v = v0 + (v1-v0) * (t-t0)/(t1-t0)\n",
    "    return v\n",
    "#Alternative version (parallel over dict keys) :\n",
    "def isochronous_transform(t_, v_, dt, key, Npoints, ssltrans = True) :\n",
    "    if ssltrans : t_serie, v_serie = ssl_transform_new (len(t_),t_, v_)\n",
    "    if Npoints == 'all' :\n",
    "        N = len(t_serie)-1\n",
    "    elif 0 < Npoints <= 1 :\n",
    "        N = int(Npoints * (len(t_serie)-1))\n",
    "    else :\n",
    "        N = Npoints\n",
    "    Nt_iso   = int(np.ceil(t_serie[N]/dt))\n",
    "    v_iso    = np.zeros(Nt_iso)\n",
    "    \n",
    "    m = 0; i = 0; ti = 0;\n",
    "    while(m < N-1) :\n",
    "        t1 = t_serie[m+1]; t0 = t_serie[m]\n",
    "        v1 = v_serie[m+1]; v0 = v_serie[m]\n",
    "        while (t0 <= ti <= t1) :\n",
    "            v_iso[i]  = lin_interp(v1,t1,v0,t0,ti)\n",
    "            ti += dt; i += 1\n",
    "        m = m + 1\n",
    "    return (key,v_iso)\n",
    "\n",
    "def parallel_isochronous_transform(t_dict, v_dict, dt_dict, Npoints, dt_factor, MISSING_KEYS) :\n",
    "    v_iso    = Parallel(n_jobs=NCORES_MAX)(\n",
    "        delayed(isochronous_transform)\n",
    "        (t_dict[key], v_dict[key], dt_dict[key][0] * dt_factor, key, Npoints) for key in MISSING_KEYS)\n",
    "    v_iso_dict = {}\n",
    "    for (key,v_) in v_iso :\n",
    "        v_iso_dict[key] = v_.tolist()\n",
    "    return v_iso_dict\n",
    "\n",
    "def sequential_isochronous_transform(t_dict, v_dict, dt_dict, Npoints, dt_factor) :\n",
    "    v_iso = [isochronous_transform(t_dict[key], v_dict[key], dt_dict[key] * dt_factor, key, Npoints) for key in KEYS]\n",
    "    v_iso_dict = {}\n",
    "    for (key,v_) in v_iso :\n",
    "        v_iso_dict[key] = v_.tolist()\n",
    "    return v_iso_dict"
   ]
  },
  {
   "cell_type": "code",
   "execution_count": 16,
   "metadata": {},
   "outputs": [],
   "source": [
    "#Dictionnary to store isochronous transforms with various dt\n",
    "dt_factor = 1.0 #To choose the ratio between isochr dt and DNS mean dt\n",
    "v_iso     = {}; \n",
    "theta_iso = {}\n",
    "t_iso     = {} #time (linspace(0,T,dt))\n",
    "Nt_iso    = {} #number of points\n",
    "dt_iso    = {}; \n",
    "Npoints   = 'all'"
   ]
  },
  {
   "cell_type": "markdown",
   "metadata": {},
   "source": [
    "Velocity isochronous transform"
   ]
  },
  {
   "cell_type": "code",
   "execution_count": 16,
   "metadata": {},
   "outputs": [
    {
     "name": "stdout",
     "output_type": "stream",
     "text": [
      "Loading v_iso.dat...\n"
     ]
    }
   ],
   "source": [
    "vname     = DIR+'Processed_data/v_iso.dat'\n",
    "if  os.path.isfile(vname) and (not RERUN):\n",
    "    print('Loading v_iso.dat...')\n",
    "    v_iso = Load_data(vname)\n",
    "\n",
    "RESAVE_V     = False\n",
    "iso_missing = {}\n",
    "MISSING_KEYS = []\n",
    "for key in KEYS : \n",
    "    if key not in v_iso :\n",
    "        RESAVE_V = True\n",
    "        print('Missing '+key+' in v_iso..')\n",
    "        MISSING_KEYS.append(key)\n",
    "\n",
    "if MISSING_KEYS :\n",
    "    start = time.time()\n",
    "    iso_missing  = parallel_isochronous_transform(tDNS, vDNS, dtDNS_mean, Npoints, dt_factor, MISSING_KEYS)\n",
    "    for key in iso_missing :\n",
    "        v_iso[key] = iso_missing[key]\n",
    "    end = time.time()\n",
    "    print('\\tTime needed \\t: '+str(end-start))\n",
    "\n",
    "if RESAVE_V :\n",
    "    print('Saving '+vname+'...')\n",
    "    tosave = {k_ : v_iso[k_] for k_ in KEYS}\n",
    "    Save_data(tosave,vname)\n",
    "tosave = {}"
   ]
  },
  {
   "cell_type": "markdown",
   "metadata": {},
   "source": [
    "Theta isochronous transform"
   ]
  },
  {
   "cell_type": "code",
   "execution_count": 17,
   "metadata": {},
   "outputs": [
    {
     "name": "stdout",
     "output_type": "stream",
     "text": [
      "Loading theta_iso.dat...\n"
     ]
    }
   ],
   "source": [
    "thetaname = DIR+'Processed_data/theta_iso.dat'\n",
    "if  os.path.isfile(thetaname) and (not RERUN):\n",
    "    print('Loading theta_iso.dat...')\n",
    "    theta_iso = Load_data(thetaname)\n",
    "\n",
    "RESAVE_THETA = False\n",
    "iso_missing = {}\n",
    "MISSING_KEYS = []\n",
    "for key in KEYS : \n",
    "    if key not in theta_iso : \n",
    "        RESAVE_THETA = True\n",
    "        print('Missing '+key+' in theta_iso..')\n",
    "        MISSING_KEYS.append(key)\n",
    "\n",
    "if MISSING_KEYS :\n",
    "    start = time.time()\n",
    "    iso_missing  = parallel_isochronous_transform(tDNS, thetaDNS, dtDNS_mean, Npoints, dt_factor, MISSING_KEYS)\n",
    "    for key in iso_missing :\n",
    "        theta_iso[key] = iso_missing[key]\n",
    "    end = time.time()\n",
    "    print('\\tTime needed \\t: '+str(end-start)) \n",
    "iso_missing = {}\n",
    "\n",
    "if RESAVE_THETA :\n",
    "    print('Saving '+thetaname+'...')\n",
    "    tosave = {k_ : theta_iso[k_] for k_ in KEYS}\n",
    "    Save_data(tosave,thetaname)\n",
    "tosave = {}"
   ]
  },
  {
   "cell_type": "code",
   "execution_count": 18,
   "metadata": {
    "scrolled": true
   },
   "outputs": [
    {
     "name": "stdout",
     "output_type": "stream",
     "text": [
      "Loading dt_iso.dat...\n",
      "Pe=$\\infty$, SLSM=2$\\times 10^{4}$, CSF=1 :\n"
     ]
    },
    {
     "ename": "NameError",
     "evalue": "name 'Nt_iso' is not defined",
     "output_type": "error",
     "traceback": [
      "\u001b[1;31m---------------------------------------------------------------------------\u001b[0m",
      "\u001b[1;31mNameError\u001b[0m                                 Traceback (most recent call last)",
      "\u001b[1;32m<ipython-input-18-a60d4c1e716c>\u001b[0m in \u001b[0;36m<module>\u001b[1;34m\u001b[0m\n\u001b[0;32m      6\u001b[0m \u001b[1;32mfor\u001b[0m \u001b[0mkey\u001b[0m \u001b[1;32min\u001b[0m \u001b[0mKEYS\u001b[0m \u001b[1;33m:\u001b[0m\u001b[1;33m\u001b[0m\u001b[1;33m\u001b[0m\u001b[0m\n\u001b[0;32m      7\u001b[0m     \u001b[0mprint\u001b[0m\u001b[1;33m(\u001b[0m\u001b[0mkey\u001b[0m\u001b[1;33m+\u001b[0m\u001b[1;34m' :'\u001b[0m\u001b[1;33m)\u001b[0m\u001b[1;33m\u001b[0m\u001b[1;33m\u001b[0m\u001b[0m\n\u001b[1;32m----> 8\u001b[1;33m     \u001b[0mNt_iso\u001b[0m\u001b[1;33m[\u001b[0m\u001b[0mkey\u001b[0m\u001b[1;33m]\u001b[0m  \u001b[1;33m=\u001b[0m \u001b[0mlen\u001b[0m\u001b[1;33m(\u001b[0m\u001b[0mv_iso\u001b[0m\u001b[1;33m[\u001b[0m\u001b[0mkey\u001b[0m\u001b[1;33m]\u001b[0m\u001b[1;33m)\u001b[0m\u001b[1;33m\u001b[0m\u001b[1;33m\u001b[0m\u001b[0m\n\u001b[0m\u001b[0;32m      9\u001b[0m     \u001b[0mdt\u001b[0m  \u001b[1;33m=\u001b[0m \u001b[0mdtDNS_mean\u001b[0m\u001b[1;33m[\u001b[0m\u001b[0mkey\u001b[0m\u001b[1;33m]\u001b[0m\u001b[1;33m[\u001b[0m\u001b[1;36m0\u001b[0m\u001b[1;33m]\u001b[0m\u001b[1;33m\u001b[0m\u001b[1;33m\u001b[0m\u001b[0m\n\u001b[0;32m     10\u001b[0m     \u001b[0mdt_iso\u001b[0m\u001b[1;33m[\u001b[0m\u001b[0mkey\u001b[0m\u001b[1;33m]\u001b[0m \u001b[1;33m=\u001b[0m \u001b[1;33m[\u001b[0m\u001b[0mdt\u001b[0m\u001b[1;33m*\u001b[0m\u001b[0mdt_factor\u001b[0m\u001b[1;33m]\u001b[0m\u001b[1;33m\u001b[0m\u001b[1;33m\u001b[0m\u001b[0m\n",
      "\u001b[1;31mNameError\u001b[0m: name 'Nt_iso' is not defined"
     ]
    }
   ],
   "source": [
    "dtname    = DIR+'Processed_data/dt_iso.dat'\n",
    "if  os.path.isfile(dtname) and (not RERUN) :\n",
    "    print('Loading dt_iso.dat...')\n",
    "    dt_iso = Load_data(dtname)\n",
    "\n",
    "for key in KEYS :\n",
    "    print(key+' :')\n",
    "    Nt_iso[key]  = len(v_iso[key])\n",
    "    dt  = dtDNS_mean[key][0]\n",
    "    dt_iso[key] = [dt*dt_factor]\n",
    "    dt_iso[key] = dt_iso[key]\n",
    "    print('\\t dt = '+str(dt))\n",
    "    print('\\t Nt_DNS = '+str(len(tDNS[key])))\n",
    "    print('\\t Nt_iso = '+str(Nt_iso[key]))\n",
    "    print('\\t v_iso mean = ' + str(np.mean(v_iso[key])))\n",
    "    print('\\t theta_iso mean = ' + str(np.mean(theta_iso[key])))\n",
    "    print('\\t Niso/Npoints inflation :'+str(100.0 * Nt_iso[key]/len(tDNS[key])))\n",
    "\n",
    "print('Saving '+dtname+'...')\n",
    "tosave = {k_ : dt_iso[k_] for k_ in KEYS}\n",
    "Save_data(tosave,dtname)\n",
    "tosave = {}\n",
    "print('Done.')"
   ]
  },
  {
   "cell_type": "markdown",
   "metadata": {},
   "source": [
    "Theta equidistant transform"
   ]
  },
  {
   "cell_type": "code",
   "execution_count": 13,
   "metadata": {},
   "outputs": [],
   "source": [
    "def equidistant_transform (l, v, dl, key):\n",
    "    N     = len(l)\n",
    "    N_eq_ = int(np.ceil(l[-1]/dl))\n",
    "    l_eq_ = 0\n",
    "    v_eq_ = np.zeros(N_eq_)\n",
    "    i = 0; j = 0;\n",
    "    while j < N-1 :\n",
    "        v1 = v[j+1]; v0 = v[j]\n",
    "        l1 = l[j+1]; l0 = l[j]\n",
    "        while l0 <= l_eq_ <= l1 :\n",
    "            v_eq_[i] = v0 + (v1-v0) * (l_eq_-l0)/(l1-l0)\n",
    "            l_eq_ += dl\n",
    "            i += 1\n",
    "        j += 1\n",
    "    return v_eq_"
   ]
  },
  {
   "cell_type": "code",
   "execution_count": 24,
   "metadata": {},
   "outputs": [],
   "source": [
    "theta_eqname= DIR+'Processed_data/theta_eq.dat'\n",
    "if  os.path.isfile(theta_eqname) and (not RERUN) :\n",
    "    theta_eq = Load_data(theta_eqname)\n",
    "    \n",
    "dl_eqname= DIR+'Processed_data/dl_eq.dat'\n",
    "if  os.path.isfile(dl_eqname) and (not RERUN) :\n",
    "    dl_eq = Load_data(dl_eqname)\n",
    "\n",
    "if RERUN :\n",
    "    dlfname   = DIR+'Processed_data/dlDNS.dat'\n",
    "    if os.path.isfile(dlfname)   and (not RERUN) : \n",
    "        print('Loading dlDNS..')\n",
    "        dlDNS    = Load_data(dlfname)\n",
    "    thetafname= DIR+'Processed_data/thetaDNS.dat'\n",
    "    if os.path.isfile(thetafname)and (not RERUN) :\n",
    "        print('Loading thetaDNS..')\n",
    "        thetaDNS = Load_data(thetafname)\n",
    "    lssl = {}; theta_ssl = {}\n",
    "    for key in KEYS :\n",
    "        lssl[key]      = []\n",
    "        theta_ssl[key] = []\n",
    "        l_ = 0\n",
    "        theta_ = thetaDNS[key][0]\n",
    "        for i in range(len(dlDNS[key])) :\n",
    "            if dlDNS[key][i] < 1.0 :\n",
    "                lssl[key].append(l_)\n",
    "                theta_ssl[key].append(theta_)\n",
    "                l_ += dlDNS[key][i]\n",
    "                theta_ = thetaDNS[key][i]\n",
    "    dl_eq = {key : np.mean([dl_ for dl_ in dlDNS[key] if dl_ < 1.0]) for key in KEYS}\n",
    "    thetaDNS = {}; dlDNS = {}\n",
    "\n",
    "    theta_eq = {}\n",
    "    for key in KEYS :\n",
    "        theta_eq[key] = equidistant_transform (lssl[key], theta_ssl[key], dl_eq[key], key)\n",
    "    \n",
    "    print('Saving '+theta_eqname+'...')\n",
    "    tosave = {k_ : theta_eq[k_] for k_ in KEYS}\n",
    "    Save_data(tosave,theta_eqname)\n",
    "    tosave = {}\n",
    "\n",
    "    print('Saving '+dl_eqname+'...')\n",
    "    tosave = {k_ : [dl_eq[k_]] for k_ in KEYS}\n",
    "    Save_data(tosave,dl_eqname)\n",
    "    tosave = {}\n",
    "    print('Done.')"
   ]
  },
  {
   "cell_type": "code",
   "execution_count": 23,
   "metadata": {},
   "outputs": [
    {
     "data": {
      "text/plain": [
       "[<matplotlib.lines.Line2D at 0x232b4d93860>]"
      ]
     },
     "execution_count": 23,
     "metadata": {},
     "output_type": "execute_result"
    },
    {
     "data": {
      "image/png": "[encoded data removed]",
      "text/plain": [
       "<Figure size 432x288 with 1 Axes>"
      ]
     },
     "metadata": {
      "needs_background": "light"
     },
     "output_type": "display_data"
    }
   ],
   "source": [
    "key = KEYS[0]\n",
    "Np  = 300\n",
    "plt.plot(lssl[key][:Np],theta_ssl[key][:Np],'.');\n",
    "plt.plot([i*dl_eq[key] for i in range(Np)],theta_eq[key][:Np],'-');"
   ]
  },
  {
   "cell_type": "markdown",
   "metadata": {},
   "source": [
    "Theta SIGNED equidistant transform"
   ]
  },
  {
   "cell_type": "code",
   "execution_count": 14,
   "metadata": {},
   "outputs": [],
   "source": [
    "theta_signed_eqname= DIR+'Processed_data/theta_signed_eq.dat'\n",
    "if  os.path.isfile(theta_signed_eqname) and (not True) :\n",
    "    theta_signed_eq = Load_data(theta_signed_eqname)\n",
    "    \n",
    "dl_eqname= DIR+'Processed_data/dl_eq.dat'\n",
    "if  os.path.isfile(dl_eqname) and (not True) :\n",
    "    dl_eq = Load_data(dl_eqname)"
   ]
  },
  {
   "cell_type": "code",
   "execution_count": 17,
   "metadata": {},
   "outputs": [
    {
     "name": "stdout",
     "output_type": "stream",
     "text": [
      "Computing ssl transform..\n",
      "\tPe=$\\infty$, SLSM=2$\\times 10^{4}$, CSF=1\n",
      "Computing equidistant transform..\n",
      "\tPe=$\\infty$, SLSM=2$\\times 10^{4}$, CSF=1\n",
      "\tPe=$10^{3}$, SLSM=2$\\times 10^{4}$, CSF=1\n"
     ]
    },
    {
     "ename": "KeyError",
     "evalue": "'Pe=$10^{3}$, SLSM=2$\\\\times 10^{4}$, CSF=1'",
     "output_type": "error",
     "traceback": [
      "\u001b[1;31m---------------------------------------------------------------------------\u001b[0m",
      "\u001b[1;31mKeyError\u001b[0m                                  Traceback (most recent call last)",
      "\u001b[1;32m<ipython-input-17-4b86580431af>\u001b[0m in \u001b[0;36m<module>\u001b[1;34m\u001b[0m\n\u001b[0;32m     29\u001b[0m     \u001b[1;32mfor\u001b[0m \u001b[0mkey\u001b[0m \u001b[1;32min\u001b[0m \u001b[0mKEYS\u001b[0m \u001b[1;33m:\u001b[0m\u001b[1;33m\u001b[0m\u001b[1;33m\u001b[0m\u001b[0m\n\u001b[0;32m     30\u001b[0m         \u001b[0mprint\u001b[0m\u001b[1;33m(\u001b[0m\u001b[1;34m'\\t'\u001b[0m \u001b[1;33m+\u001b[0m \u001b[0mkey\u001b[0m\u001b[1;33m)\u001b[0m\u001b[1;33m\u001b[0m\u001b[1;33m\u001b[0m\u001b[0m\n\u001b[1;32m---> 31\u001b[1;33m         \u001b[0mtheta_signed_eq\u001b[0m\u001b[1;33m[\u001b[0m\u001b[0mkey\u001b[0m\u001b[1;33m]\u001b[0m \u001b[1;33m=\u001b[0m \u001b[0mequidistant_transform\u001b[0m \u001b[1;33m(\u001b[0m\u001b[0mlssl\u001b[0m\u001b[1;33m[\u001b[0m\u001b[0mkey\u001b[0m\u001b[1;33m]\u001b[0m\u001b[1;33m,\u001b[0m \u001b[0mtheta_signed_ssl\u001b[0m\u001b[1;33m[\u001b[0m\u001b[0mkey\u001b[0m\u001b[1;33m]\u001b[0m\u001b[1;33m,\u001b[0m \u001b[0mdl_eq\u001b[0m\u001b[1;33m[\u001b[0m\u001b[0mkey\u001b[0m\u001b[1;33m]\u001b[0m\u001b[1;33m,\u001b[0m \u001b[0mkey\u001b[0m\u001b[1;33m)\u001b[0m\u001b[1;33m\u001b[0m\u001b[1;33m\u001b[0m\u001b[0m\n\u001b[0m\u001b[0;32m     32\u001b[0m     \u001b[0mprint\u001b[0m\u001b[1;33m(\u001b[0m\u001b[1;34m'Saving '\u001b[0m\u001b[1;33m+\u001b[0m\u001b[0mtheta_signed_eqname\u001b[0m\u001b[1;33m+\u001b[0m\u001b[1;34m'...'\u001b[0m\u001b[1;33m)\u001b[0m\u001b[1;33m\u001b[0m\u001b[1;33m\u001b[0m\u001b[0m\n\u001b[0;32m     33\u001b[0m     \u001b[0mtosave\u001b[0m \u001b[1;33m=\u001b[0m \u001b[1;33m{\u001b[0m\u001b[0mk_\u001b[0m \u001b[1;33m:\u001b[0m \u001b[0mtheta_signed_eq\u001b[0m\u001b[1;33m[\u001b[0m\u001b[0mk_\u001b[0m\u001b[1;33m]\u001b[0m \u001b[1;32mfor\u001b[0m \u001b[0mk_\u001b[0m \u001b[1;32min\u001b[0m \u001b[0mtheta_signed_eq\u001b[0m\u001b[1;33m}\u001b[0m\u001b[1;33m\u001b[0m\u001b[1;33m\u001b[0m\u001b[0m\n",
      "\u001b[1;31mKeyError\u001b[0m: 'Pe=$10^{3}$, SLSM=2$\\\\times 10^{4}$, CSF=1'"
     ]
    }
   ],
   "source": [
    "if True :\n",
    "    if False :\n",
    "        dlfname   = DIR+'Processed_data/dlDNS.dat'\n",
    "        if os.path.isfile(dlfname)   and (not RERUN) : \n",
    "            print('Loading dlDNS..')\n",
    "            dlDNS    = Load_data(dlfname)\n",
    "        theta_signedfname= DIR+'Processed_data/thetaDNS_signed.dat'\n",
    "        if os.path.isfile(theta_signedfname)and (not RERUN) :\n",
    "            print('Loading thetaDNS_signed..')\n",
    "            thetaDNS_signed = Load_data(theta_signedfname)\n",
    "    lssl = {}; theta_signed_ssl = {}\n",
    "    print('Computing ssl transform..')\n",
    "    for key in KEYS[:1] :\n",
    "        print('\\t' + key)\n",
    "        lssl[key]      = []\n",
    "        theta_signed_ssl[key] = []\n",
    "        l_ = 0\n",
    "        theta_ = thetaDNS_signed[key][0]\n",
    "        for i in range(len(dlDNS[key])) :\n",
    "            if dlDNS[key][i] < 1.0 :\n",
    "                lssl[key].append(l_)\n",
    "                theta_signed_ssl[key].append(theta_)\n",
    "                l_ += dlDNS[key][i]\n",
    "                theta_ = thetaDNS_signed[key][i]\n",
    "    dl_eq = {key : np.mean([dl_ for dl_ in dlDNS[key] if dl_ < 1.0]) for key in KEYS}\n",
    "    #thetaDNS_signed = {}; dlDNS = {}\n",
    "    theta_signed_eq = {}\n",
    "    print('Computing equidistant transform..')\n",
    "    for key in KEYS :\n",
    "        print('\\t' + key)\n",
    "        theta_signed_eq[key] = equidistant_transform (lssl[key], theta_signed_ssl[key], dl_eq[key], key)\n",
    "    print('Saving '+theta_signed_eqname+'...')\n",
    "    tosave = {k_ : theta_signed_eq[k_] for k_ in theta_signed_eq}\n",
    "    Save_data(tosave,theta_signed_eqname)\n",
    "    tosave = {}\n",
    "    print('Done.') "
   ]
  },
  {
   "cell_type": "code",
   "execution_count": 20,
   "metadata": {},
   "outputs": [
    {
     "data": {
      "image/png": "[encoded data removed]",
      "text/plain": [
       "<Figure size 432x288 with 1 Axes>"
      ]
     },
     "metadata": {
      "needs_background": "light"
     },
     "output_type": "display_data"
    }
   ],
   "source": [
    "key = KEYS[0]\n",
    "N0  = 100000\n",
    "Np  = 3000\n",
    "plt.plot(lssl[key][N0:N0+Np],theta_signed_ssl[key][N0:N0+Np],'.');\n",
    "plt.plot([i*dl_eq[key] for i in range(N0,N0+Np)],theta_signed_eq[key][N0:N0+Np],'-');"
   ]
  },
  {
   "cell_type": "markdown",
   "metadata": {},
   "source": [
    "#### Verification of the isochronous transform by comparing it to original data"
   ]
  },
  {
   "cell_type": "code",
   "execution_count": 90,
   "metadata": {
    "scrolled": true
   },
   "outputs": [
    {
     "data": {
      "image/png": "[encoded data removed]",
      "text/plain": [
       "<Figure size 576x216 with 3 Axes>"
      ]
     },
     "metadata": {
      "needs_background": "light"
     },
     "output_type": "display_data"
    }
   ],
   "source": [
    "key    = KEYS[-1]\n",
    "fig, axs = plt.subplots(1,3, figsize = (8,3.0), sharey = True)\n",
    "i0  = 50\n",
    "N   = 100\n",
    "for (i,key) in zip(range(3),KEYS) :\n",
    "    T0     = tDNS[key][i0]\n",
    "    T      = tDNS[key][i0+N]\n",
    "    axs[i].set_title('Pe = '+v_to_pow(PECLET[i]))\n",
    "    axs[i].plot(tDNS[key][i0:i0+N],vDNS[key][i0:i0+N],'.', label = 'DNS series'); #rough DNS series\n",
    "    \n",
    "    i0_iso = int(np.ceil(T0/dt_iso[key]))\n",
    "    N_iso  = int(np.ceil((T-T0)/dt_iso[key]))\n",
    "    t_iso  = np.linspace(T0,T,N_iso)\n",
    "    axs[i].plot(t_iso,v_iso[key][i0_iso:i0_iso+N_iso],'-',label='isochronous series'); #Isochronous series\n",
    "\n",
    "    axs[i].set_xlabel('t/T');\n",
    "    axs[0].set_ylabel('v');\n",
    "axs[i].legend();\n",
    "plt.tight_layout()\n",
    "plt.savefig(DIR+'Figures/check_iso_transf'+extension)"
   ]
  },
  {
   "cell_type": "code",
   "execution_count": 21,
   "metadata": {},
   "outputs": [
    {
     "data": {
      "image/png": "[encoded data removed]",
      "text/plain": [
       "<Figure size 1080x360 with 2 Axes>"
      ]
     },
     "metadata": {
      "needs_background": "light"
     },
     "output_type": "display_data"
    }
   ],
   "source": [
    "fig, axs = plt.subplots(1,2,figsize=(15,5), sharey = True);\n",
    "axs[0].set_title('Maximal physical time');\n",
    "axs[0].semilogy(PECLET,[tDNS[k_][-1] for k_ in KEYS],'--o');\n",
    "axs[0].set_xlabel(r'$D_m$');\n",
    "axs[0].set_ylabel(r'$T_{max}$');\n",
    "\n",
    "axs[1].set_title('Number of sampling points');\n",
    "axs[1].loglog(PECLET,[len(tDNS[k_]) for k_ in KEYS],'--o');\n",
    "axs[1].set_xlabel(r'$D_m$');\n",
    "axs[1].set_ylabel(r'$N$');"
   ]
  },
  {
   "cell_type": "markdown",
   "metadata": {},
   "source": [
    "### Comparison with Markovian processes"
   ]
  },
  {
   "cell_type": "code",
   "execution_count": 61,
   "metadata": {},
   "outputs": [
    {
     "name": "stdout",
     "output_type": "stream",
     "text": [
      "Loading data...\n",
      "Done\n"
     ]
    }
   ],
   "source": [
    "samples = [Bentheimer1000]\n",
    "Nmp = 100\n",
    "MP_params = {\n",
    "'seed': None,\n",
    "'v0'  : 1.5,\n",
    "'dt'  : 0.005,\n",
    "'Tmax': 300.0,\n",
    "'csf' : 1.0\n",
    "}\n",
    "MP_lvm  = {'params' : MP_params}\n",
    "fname   = DIR+'Markov_processes/MP_lvm.dat'\n",
    "rerun   = False\n",
    "if (not os.path.isfile(fname)) or rerun:\n",
    "    for sample in samples :\n",
    "        MP_lvm[sample['name']]  = Parallel(n_jobs=NCORES_MAX)(\n",
    "            delayed(LVM_process)\n",
    "            (sample, MP_params) for i in range(Nmp))\n",
    "        MP_lvm[sample['name']]=np.reshape(MP_lvm[sample['name']],len(MP_lvm[sample['name']][0])*Nmp)\n",
    "        Save_data(MP_lvm,fname)\n",
    "else :\n",
    "    print('Loading data...')\n",
    "    MP_lvm = Load_data(fname)\n",
    "    print('Done')"
   ]
  },
  {
   "cell_type": "markdown",
   "metadata": {},
   "source": [
    "#### Computation of LVM PDF"
   ]
  },
  {
   "cell_type": "code",
   "execution_count": 47,
   "metadata": {},
   "outputs": [],
   "source": [
    "pdf_vDNS           = {} #Log velocity magnitude probability density function extracted directly from DNS\n",
    "pdf_vDNS_fname     = DIR+'Processed_data/pdf_vDNS.dat'\n",
    "pdf_viso           = {} #to store isochronous histogram as a line\n",
    "pdf_viso_fname     = DIR+'Processed_data/pdf_viso.dat'\n",
    "\n",
    "pdf_thetaDNS       = {} #Directional angle probability density function extracted directly from DNS\n",
    "pdf_thetaDNS_fname = DIR+'Processed_data/pdf_thetaDNS.dat'\n",
    "pdf_thetaiso       = {} \n",
    "pdf_thetaiso_fname = DIR+'Processed_data/pdf_thetaiso.dat'\n",
    "pdf_thetaeq        = {} \n",
    "pdf_thetaeq_fname  = DIR+'Processed_data/pdf_thetaeq.dat'\n",
    "pdf_theta_signed_eq        = {} \n",
    "pdf_theta_signed_eq_fname  = DIR+'Processed_data/pdf_theta_signed_eq.dat'  "
   ]
  },
  {
   "cell_type": "code",
   "execution_count": 48,
   "metadata": {},
   "outputs": [
    {
     "name": "stdout",
     "output_type": "stream",
     "text": [
      "Loading vDNS pdf..\n",
      "Loading viso pdf..\n",
      "Loading thetaDNS pdf..\n",
      "Loading thetaiso pdf..\n",
      "Loading thetaeq pdf..\n",
      "Loading theta_signed_eq pdf..\n"
     ]
    }
   ],
   "source": [
    "  if os.path.isfile(pdf_vDNS_fname): \n",
    "    print('Loading vDNS pdf..')\n",
    "    pdf_vDNS = Load_pdf(pdf_vDNS_fname)\n",
    "    \n",
    "if os.path.isfile(pdf_viso_fname): \n",
    "    print('Loading viso pdf..')\n",
    "    pdf_viso = Load_pdf(pdf_viso_fname)\n",
    "    \n",
    "if os.path.isfile(pdf_thetaDNS_fname): \n",
    "    print('Loading thetaDNS pdf..')\n",
    "    pdf_thetaDNS = Load_pdf(pdf_thetaDNS_fname)\n",
    "    \n",
    "if os.path.isfile(pdf_thetaiso_fname): \n",
    "    print('Loading thetaiso pdf..')\n",
    "    pdf_thetaiso = Load_pdf(pdf_thetaiso_fname)\n",
    "\n",
    "if os.path.isfile(pdf_thetaeq_fname): \n",
    "    print('Loading thetaeq pdf..')\n",
    "    pdf_thetaeq = Load_pdf(pdf_thetaeq_fname)\n",
    "    \n",
    "if os.path.isfile(pdf_theta_signed_eq_fname):\n",
    "    print('Loading theta_signed_eq pdf..')\n",
    "    pdf_theta_signed_eq = Load_pdf(pdf_theta_signed_eq_fname)"
   ]
  },
  {
   "cell_type": "code",
   "execution_count": null,
   "metadata": {},
   "outputs": [],
   "source": [
    "SAVE = False\n",
    "for key in KEYS :\n",
    "    if key not in pdf_vDNS :\n",
    "        SAVE= True\n",
    "        print(\"missing \" + key + \" data..\")        \n",
    "        pdf_vDNS[key] = Extract_pdf(vDNS[key])\n",
    "        pdf_viso[key] = Extract_pdf(v_iso[key])\n",
    "    if key not in pdf_thetaDNS :\n",
    "        SAVE= True\n",
    "        print(\"missing \" + key + \" data..\")        \n",
    "        pdf_thetaDNS[key] = Extract_pdf(np.abs([tt_ for tt_ in thetaDNS[key] if str(tt_) != 'nan']))\n",
    "        \n",
    "    if key not in pdf_thetaiso :\n",
    "        SAVE= True\n",
    "        print(\"missing \" + key + \" data..\")        \n",
    "        pdf_thetaiso[key] = Extract_pdf(np.abs([tt_ for tt_ in theta_iso[key]if str(tt_) != 'nan']))\n",
    "\n",
    "    if key not in pdf_thetaeq :\n",
    "        SAVE= True\n",
    "        print(\"missing \" + key + \" data..\")        \n",
    "        pdf_thetaeq[key] = Extract_pdf(np.abs([tt_ for tt_ in theta_eq[key]if str(tt_) != 'nan']))"
   ]
  },
  {
   "cell_type": "code",
   "execution_count": 53,
   "metadata": {},
   "outputs": [
    {
     "name": "stdout",
     "output_type": "stream",
     "text": [
      "missing Pe=$\\infty$, SLSM=2$\\times 10^{4}$, CSF=1 data..\n",
      "missing Pe=$10^{3}$, SLSM=2$\\times 10^{4}$, CSF=1 data..\n"
     ]
    },
    {
     "ename": "KeyError",
     "evalue": "'Pe=$10^{3}$, SLSM=2$\\\\times 10^{4}$, CSF=1'",
     "output_type": "error",
     "traceback": [
      "\u001b[1;31m---------------------------------------------------------------------------\u001b[0m",
      "\u001b[1;31mKeyError\u001b[0m                                  Traceback (most recent call last)",
      "\u001b[1;32m<ipython-input-53-4defc7f1dfaf>\u001b[0m in \u001b[0;36m<module>\u001b[1;34m\u001b[0m\n\u001b[0;32m      2\u001b[0m     \u001b[0mSAVE\u001b[0m\u001b[1;33m=\u001b[0m \u001b[1;32mTrue\u001b[0m\u001b[1;33m\u001b[0m\u001b[1;33m\u001b[0m\u001b[0m\n\u001b[0;32m      3\u001b[0m     \u001b[0mprint\u001b[0m\u001b[1;33m(\u001b[0m\u001b[1;34m\"missing \"\u001b[0m \u001b[1;33m+\u001b[0m \u001b[0mkey\u001b[0m \u001b[1;33m+\u001b[0m \u001b[1;34m\" data..\"\u001b[0m\u001b[1;33m)\u001b[0m\u001b[1;33m\u001b[0m\u001b[1;33m\u001b[0m\u001b[0m\n\u001b[1;32m----> 4\u001b[1;33m     \u001b[0mpdf_theta_signed_eq\u001b[0m\u001b[1;33m[\u001b[0m\u001b[0mkey\u001b[0m\u001b[1;33m]\u001b[0m \u001b[1;33m=\u001b[0m \u001b[0mExtract_pdf\u001b[0m\u001b[1;33m(\u001b[0m\u001b[0mtheta_signed_eq\u001b[0m\u001b[1;33m[\u001b[0m\u001b[0mkey\u001b[0m\u001b[1;33m]\u001b[0m\u001b[1;33m)\u001b[0m\u001b[1;33m\u001b[0m\u001b[1;33m\u001b[0m\u001b[0m\n\u001b[0m\u001b[0;32m      5\u001b[0m \u001b[1;33m\u001b[0m\u001b[0m\n\u001b[0;32m      6\u001b[0m \u001b[1;33m\u001b[0m\u001b[0m\n",
      "\u001b[1;31mKeyError\u001b[0m: 'Pe=$10^{3}$, SLSM=2$\\\\times 10^{4}$, CSF=1'"
     ]
    }
   ],
   "source": [
    "SAVE = False\n",
    "for key in KEYS :\n",
    "    if key not in pdf_vDNS :\n",
    "        SAVE= True\n",
    "        print(\"missing \" + key + \" data..\")        \n",
    "        pdf_vDNS[key] = Extract_pdf(vDNS[key])\n",
    "        pdf_viso[key] = Extract_pdf(v_iso[key])\n",
    "    if key not in pdf_thetaDNS :\n",
    "        SAVE= True\n",
    "        print(\"missing \" + key + \" data..\")        \n",
    "        pdf_thetaDNS[key] = Extract_pdf(np.abs([tt_ for tt_ in thetaDNS[key] if str(tt_) != 'nan']))\n",
    "        \n",
    "    if key not in pdf_thetaiso :\n",
    "        SAVE= True\n",
    "        print(\"missing \" + key + \" data..\")        \n",
    "        pdf_thetaiso[key] = Extract_pdf(np.abs([tt_ for tt_ in theta_iso[key]if str(tt_) != 'nan']))\n",
    "\n",
    "    if key not in pdf_thetaeq :\n",
    "        SAVE= True\n",
    "        print(\"missing \" + key + \" data..\")        \n",
    "        pdf_thetaeq[key] = Extract_pdf(np.abs([tt_ for tt_ in theta_eq[key]if str(tt_) != 'nan']))\n",
    "\n",
    "    if key not in pdf_theta_signed_eq :\n",
    "        SAVE= True\n",
    "        print(\"missing \" + key + \" data..\")        \n",
    "        pdf_theta_signed_eq[key] = Extract_pdf(theta_signed_eq[key])\n",
    "\n",
    "\n",
    "if SAVE :     \n",
    "    print('\\tSaving..')\n",
    "    Save_pdf(pdf_vDNS, pdf_vDNS_fname)\n",
    "    Save_pdf(pdf_viso, pdf_viso_fname)\n",
    "    Save_pdf(pdf_thetaDNS, pdf_thetaDNS_fname)\n",
    "    Save_pdf(pdf_thetaiso, pdf_thetaiso_fname)\n",
    "    Save_pdf(pdf_thetaeq, pdf_thetaeq_fname)\n",
    "    Save_pdf(pdf_theta_signed_eq, pdf_theta_signed_eq_fname)\n",
    "print('Done.')"
   ]
  },
  {
   "cell_type": "code",
   "execution_count": 11,
   "metadata": {},
   "outputs": [],
   "source": [
    "pdf_theta_signed_eq[key] = Extract_pdf(theta_signed_eq[key])\n",
    "Save_pdf(pdf_theta_signed_eq, pdf_theta_signed_eq_fname)"
   ]
  },
  {
   "cell_type": "code",
   "execution_count": 36,
   "metadata": {},
   "outputs": [
    {
     "data": {
      "image/png": "[encoded data removed]",
      "text/plain": [
       "<Figure size 432x288 with 1 Axes>"
      ]
     },
     "metadata": {
      "needs_background": "light"
     },
     "output_type": "display_data"
    }
   ],
   "source": [
    "for key in KEYS : plt.plot(pdf_thetaeq[key][0],pdf_thetaeq[key][1]);"
   ]
  },
  {
   "cell_type": "code",
   "execution_count": 15,
   "metadata": {},
   "outputs": [
    {
     "data": {
      "image/png": "[encoded data removed]",
      "text/plain": [
       "<Figure size 432x288 with 1 Axes>"
      ]
     },
     "metadata": {
      "needs_background": "light"
     },
     "output_type": "display_data"
    }
   ],
   "source": [
    "plt.plot(pdf_thetaeq[key][0],pdf_thetaeq[key][1]);\n",
    "plt.plot(pdf_theta_signed_eq[key][0],pdf_theta_signed_eq[key][1]);"
   ]
  },
  {
   "cell_type": "code",
   "execution_count": null,
   "metadata": {},
   "outputs": [],
   "source": []
  },
  {
   "cell_type": "code",
   "execution_count": 63,
   "metadata": {},
   "outputs": [
    {
     "ename": "TypeError",
     "evalue": "'<' not supported between instances of 'dict' and 'float'",
     "output_type": "error",
     "traceback": [
      "\u001b[1;31m---------------------------------------------------------------------------\u001b[0m",
      "\u001b[1;31mTypeError\u001b[0m                                 Traceback (most recent call last)",
      "\u001b[1;32m<ipython-input-63-f5e8036b3e09>\u001b[0m in \u001b[0;36m<module>\u001b[1;34m\u001b[0m\n\u001b[0;32m     10\u001b[0m     \u001b[0max\u001b[0m\u001b[1;33m.\u001b[0m\u001b[0mset_title\u001b[0m\u001b[1;33m(\u001b[0m\u001b[1;34mr'Pe =$\\infty$'\u001b[0m\u001b[1;33m)\u001b[0m\u001b[1;33m\u001b[0m\u001b[1;33m\u001b[0m\u001b[0m\n\u001b[0;32m     11\u001b[0m     \u001b[0max\u001b[0m\u001b[1;33m.\u001b[0m\u001b[0mhist\u001b[0m\u001b[1;33m(\u001b[0m\u001b[0mdata3\u001b[0m\u001b[1;33m,\u001b[0m \u001b[0mbins\u001b[0m \u001b[1;33m=\u001b[0m \u001b[1;36m200\u001b[0m\u001b[1;33m,\u001b[0m \u001b[0mlabel\u001b[0m \u001b[1;33m=\u001b[0m \u001b[1;34m'Markov process'\u001b[0m\u001b[1;33m,\u001b[0m   \u001b[0mdensity\u001b[0m \u001b[1;33m=\u001b[0m \u001b[1;32mTrue\u001b[0m\u001b[1;33m,\u001b[0m \u001b[0malpha\u001b[0m\u001b[1;33m=\u001b[0m \u001b[1;36m0.5\u001b[0m\u001b[1;33m,\u001b[0m \u001b[0mcolor\u001b[0m \u001b[1;33m=\u001b[0m \u001b[0mcolor_cycle\u001b[0m\u001b[1;33m[\u001b[0m\u001b[1;36m3\u001b[0m\u001b[1;33m]\u001b[0m\u001b[1;33m)\u001b[0m\u001b[1;33m\u001b[0m\u001b[1;33m\u001b[0m\u001b[0m\n\u001b[1;32m---> 12\u001b[1;33m     \u001b[0max\u001b[0m\u001b[1;33m.\u001b[0m\u001b[0mhist\u001b[0m\u001b[1;33m(\u001b[0m\u001b[0mdata1\u001b[0m\u001b[1;33m,\u001b[0m \u001b[0mbins\u001b[0m \u001b[1;33m=\u001b[0m \u001b[1;36m200\u001b[0m\u001b[1;33m,\u001b[0m \u001b[0mlabel\u001b[0m \u001b[1;33m=\u001b[0m\u001b[1;34m'DNS'\u001b[0m\u001b[1;33m,\u001b[0m         \u001b[0mdensity\u001b[0m \u001b[1;33m=\u001b[0m \u001b[1;32mTrue\u001b[0m\u001b[1;33m,\u001b[0m \u001b[0malpha\u001b[0m\u001b[1;33m=\u001b[0m \u001b[1;36m0.5\u001b[0m\u001b[1;33m,\u001b[0m \u001b[0mcolor\u001b[0m \u001b[1;33m=\u001b[0m \u001b[0mcolor_cycle\u001b[0m\u001b[1;33m[\u001b[0m\u001b[1;36m0\u001b[0m\u001b[1;33m]\u001b[0m\u001b[1;33m)\u001b[0m\u001b[1;33m\u001b[0m\u001b[1;33m\u001b[0m\u001b[0m\n\u001b[0m\u001b[0;32m     13\u001b[0m     \u001b[0max\u001b[0m\u001b[1;33m.\u001b[0m\u001b[0mhist\u001b[0m\u001b[1;33m(\u001b[0m\u001b[0mdata2\u001b[0m\u001b[1;33m,\u001b[0m \u001b[0mbins\u001b[0m \u001b[1;33m=\u001b[0m \u001b[1;36m200\u001b[0m\u001b[1;33m,\u001b[0m \u001b[0mlabel\u001b[0m \u001b[1;33m=\u001b[0m\u001b[1;34m'Isochronous'\u001b[0m\u001b[1;33m,\u001b[0m \u001b[0mdensity\u001b[0m \u001b[1;33m=\u001b[0m \u001b[1;32mTrue\u001b[0m\u001b[1;33m,\u001b[0m \u001b[0malpha\u001b[0m\u001b[1;33m=\u001b[0m \u001b[1;36m0.5\u001b[0m\u001b[1;33m,\u001b[0m \u001b[0mcolor\u001b[0m \u001b[1;33m=\u001b[0m \u001b[0mcolor_cycle\u001b[0m\u001b[1;33m[\u001b[0m\u001b[1;36m1\u001b[0m\u001b[1;33m]\u001b[0m\u001b[1;33m)\u001b[0m\u001b[1;33m\u001b[0m\u001b[1;33m\u001b[0m\u001b[0m\n\u001b[0;32m     14\u001b[0m     \u001b[0max\u001b[0m\u001b[1;33m.\u001b[0m\u001b[0mplot\u001b[0m\u001b[1;33m(\u001b[0m\u001b[0mvrange\u001b[0m\u001b[1;33m,\u001b[0m \u001b[0mp_skew\u001b[0m\u001b[1;33m(\u001b[0m\u001b[0mvrange\u001b[0m\u001b[1;33m,\u001b[0m\u001b[0msample\u001b[0m\u001b[1;33m)\u001b[0m\u001b[1;33m,\u001b[0m \u001b[0mlabel\u001b[0m \u001b[1;33m=\u001b[0m \u001b[1;34m'Skew normal PDF'\u001b[0m\u001b[1;33m,\u001b[0m \u001b[0mcolor\u001b[0m \u001b[1;33m=\u001b[0m \u001b[1;34m'r'\u001b[0m\u001b[1;33m)\u001b[0m\u001b[1;33m;\u001b[0m\u001b[1;33m\u001b[0m\u001b[1;33m\u001b[0m\u001b[0m\n",
      "\u001b[1;32m~\\Documents\\prog\\Anaconda3\\lib\\site-packages\\matplotlib\\__init__.py\u001b[0m in \u001b[0;36minner\u001b[1;34m(ax, data, *args, **kwargs)\u001b[0m\n\u001b[0;32m   1808\u001b[0m                         \u001b[1;34m\"the Matplotlib list!)\"\u001b[0m \u001b[1;33m%\u001b[0m \u001b[1;33m(\u001b[0m\u001b[0mlabel_namer\u001b[0m\u001b[1;33m,\u001b[0m \u001b[0mfunc\u001b[0m\u001b[1;33m.\u001b[0m\u001b[0m__name__\u001b[0m\u001b[1;33m)\u001b[0m\u001b[1;33m,\u001b[0m\u001b[1;33m\u001b[0m\u001b[1;33m\u001b[0m\u001b[0m\n\u001b[0;32m   1809\u001b[0m                         RuntimeWarning, stacklevel=2)\n\u001b[1;32m-> 1810\u001b[1;33m             \u001b[1;32mreturn\u001b[0m \u001b[0mfunc\u001b[0m\u001b[1;33m(\u001b[0m\u001b[0max\u001b[0m\u001b[1;33m,\u001b[0m \u001b[1;33m*\u001b[0m\u001b[0margs\u001b[0m\u001b[1;33m,\u001b[0m \u001b[1;33m**\u001b[0m\u001b[0mkwargs\u001b[0m\u001b[1;33m)\u001b[0m\u001b[1;33m\u001b[0m\u001b[1;33m\u001b[0m\u001b[0m\n\u001b[0m\u001b[0;32m   1811\u001b[0m \u001b[1;33m\u001b[0m\u001b[0m\n\u001b[0;32m   1812\u001b[0m         inner.__doc__ = _add_data_doc(inner.__doc__,\n",
      "\u001b[1;32m~\\Documents\\prog\\Anaconda3\\lib\\site-packages\\matplotlib\\axes\\_axes.py\u001b[0m in \u001b[0;36mhist\u001b[1;34m(self, x, bins, range, density, weights, cumulative, bottom, histtype, align, orientation, rwidth, log, color, label, stacked, normed, **kwargs)\u001b[0m\n\u001b[0;32m   6573\u001b[0m             \u001b[1;32mfor\u001b[0m \u001b[0mxi\u001b[0m \u001b[1;32min\u001b[0m \u001b[0mx\u001b[0m\u001b[1;33m:\u001b[0m\u001b[1;33m\u001b[0m\u001b[1;33m\u001b[0m\u001b[0m\n\u001b[0;32m   6574\u001b[0m                 \u001b[1;32mif\u001b[0m \u001b[0mlen\u001b[0m\u001b[1;33m(\u001b[0m\u001b[0mxi\u001b[0m\u001b[1;33m)\u001b[0m \u001b[1;33m>\u001b[0m \u001b[1;36m0\u001b[0m\u001b[1;33m:\u001b[0m\u001b[1;33m\u001b[0m\u001b[1;33m\u001b[0m\u001b[0m\n\u001b[1;32m-> 6575\u001b[1;33m                     \u001b[0mxmin\u001b[0m \u001b[1;33m=\u001b[0m \u001b[0mmin\u001b[0m\u001b[1;33m(\u001b[0m\u001b[0mxmin\u001b[0m\u001b[1;33m,\u001b[0m \u001b[0mnp\u001b[0m\u001b[1;33m.\u001b[0m\u001b[0mnanmin\u001b[0m\u001b[1;33m(\u001b[0m\u001b[0mxi\u001b[0m\u001b[1;33m)\u001b[0m\u001b[1;33m)\u001b[0m\u001b[1;33m\u001b[0m\u001b[1;33m\u001b[0m\u001b[0m\n\u001b[0m\u001b[0;32m   6576\u001b[0m                     \u001b[0mxmax\u001b[0m \u001b[1;33m=\u001b[0m \u001b[0mmax\u001b[0m\u001b[1;33m(\u001b[0m\u001b[0mxmax\u001b[0m\u001b[1;33m,\u001b[0m \u001b[0mnp\u001b[0m\u001b[1;33m.\u001b[0m\u001b[0mnanmax\u001b[0m\u001b[1;33m(\u001b[0m\u001b[0mxi\u001b[0m\u001b[1;33m)\u001b[0m\u001b[1;33m)\u001b[0m\u001b[1;33m\u001b[0m\u001b[1;33m\u001b[0m\u001b[0m\n\u001b[0;32m   6577\u001b[0m             \u001b[0mbin_range\u001b[0m \u001b[1;33m=\u001b[0m \u001b[1;33m(\u001b[0m\u001b[0mxmin\u001b[0m\u001b[1;33m,\u001b[0m \u001b[0mxmax\u001b[0m\u001b[1;33m)\u001b[0m\u001b[1;33m\u001b[0m\u001b[1;33m\u001b[0m\u001b[0m\n",
      "\u001b[1;31mTypeError\u001b[0m: '<' not supported between instances of 'dict' and 'float'"
     ]
    },
    {
     "data": {
      "image/png": "[encoded data removed]",
      "text/plain": [
       "<Figure size 360x216 with 1 Axes>"
      ]
     },
     "metadata": {
      "needs_background": "light"
     },
     "output_type": "display_data"
    }
   ],
   "source": [
    "lvmpdf = Load_pdf(DIR+'Processed_data/bentheimer1000lvmpdf.dat')\n",
    "fig, ax = plt.subplots(1,1,figsize = (5,3.0), sharex=True, sharey=True)\n",
    "sample   = Bentheimer1000\n",
    "vrange = np.linspace(-10,10,100)\n",
    "count    = 0\n",
    "for key in [PLOT_KEYS[0]]:\n",
    "    data1 = vDNS[key]\n",
    "    data2 = v_iso[key]\n",
    "    data3 = MP_lvm[sample['name']]\n",
    "    ax.set_title(r'Pe =$\\infty$')\n",
    "    ax.hist(data3, bins = 200, label = 'Markov process',   density = True, alpha= 0.5, color = color_cycle[3])\n",
    "    ax.hist(data1, bins = 200, label ='DNS',         density = True, alpha= 0.5, color = color_cycle[0])\n",
    "    ax.hist(data2, bins = 200, label ='Isochronous', density = True, alpha= 0.5, color = color_cycle[1])\n",
    "    ax.plot(vrange, p_skew(vrange,sample), label = 'Skew normal PDF', color = 'r');\n",
    "    ax.plot(lvmpdf['Bentheimer1000'][0], lvmpdf['Bentheimer1000'][1], '--k', label = 'Eulerian', alpha=0.7);\n",
    "    #ax.grid(True)\n",
    "    ax.set_xlabel('v')\n",
    "    ax.set_ylabel('p(v)')\n",
    "    ax.legend()\n",
    "    ax.set_xlim([-8,4])\n",
    "plt.tight_layout()\n",
    "plt.savefig(DIR+'Figures/LVM_pdf_DM=0'+extension)"
   ]
  },
  {
   "cell_type": "code",
   "execution_count": 112,
   "metadata": {},
   "outputs": [
    {
     "data": {
      "image/png": "[encoded data removed]",
      "text/plain": [
       "<Figure size 360x864 with 4 Axes>"
      ]
     },
     "metadata": {
      "needs_background": "light"
     },
     "output_type": "display_data"
    }
   ],
   "source": [
    "lvmpdf = Load_pdf(DIR+'Processed_data/bentheimer1000lvmpdf.dat')\n",
    "#fig, axs = plt.subplots(int(len(PLOT_KEYS)/2),2,figsize=(8,3*(int(len(PLOT_KEYS)/2))+1), sharex=True, sharey=True)\n",
    "fig, axs = plt.subplots(len(PLOT_KEYS),1,figsize=(5,3*int(len(PLOT_KEYS))), sharex=True, sharey=True)\n",
    "sample   = Bentheimer1000\n",
    "vrange = np.linspace(-10,10,100)\n",
    "count    = 0\n",
    "for key in PLOT_KEYS:\n",
    "    #(i,j) = (int(count/2),np.mod(count,2))\n",
    "    #ax = axs[i,j]\n",
    "    ax = axs[count]\n",
    "    ax.set_title('Pe='+v_to_pow(PECLET[count]))\n",
    "    ax.hist(vDNS[key], bins = 200, label = 'DNS',         density = True, alpha= 0.5, color = color_cycle[0])\n",
    "    ax.hist(v_iso[key], bins = 200, label = 'Isochronous', density = True, alpha= 0.5, color = color_cycle[1])\n",
    "    ax.plot(vrange, p_skew(vrange,sample), label = 'Skew normal PDF', color = 'r');\n",
    "    ax.plot(lvmpdf['Bentheimer1000'][0], lvmpdf['Bentheimer1000'][1], '--k', label = 'Eulerian', alpha=0.7);\n",
    "    #ax.grid(True)\n",
    "    ax.set_xlabel('v')\n",
    "    ax.set_ylabel('p(v)')\n",
    "    ax.legend()\n",
    "    ax.set_xlim([-8,4])\n",
    "    count += 1\n",
    "plt.tight_layout()\n",
    "plt.savefig(DIR+'Figures/LVM_pdf_comparison'+extension)"
   ]
  }
 ],
 "metadata": {
  "kernelspec": {
   "display_name": "Python 3",
   "language": "python",
   "name": "python3"
  },
  "language_info": {
   "codemirror_mode": {
    "name": "ipython",
    "version": 3
   },
   "file_extension": ".py",
   "mimetype": "text/x-python",
   "name": "python",
   "nbconvert_exporter": "python",
   "pygments_lexer": "ipython3",
   "version": "3.7.1"
  }
 },
 "nbformat": 4,
 "nbformat_minor": 2
}
