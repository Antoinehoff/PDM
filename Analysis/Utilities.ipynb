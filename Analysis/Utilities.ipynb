{
 "cells": [
  {
   "cell_type": "code",
   "execution_count": 1,
   "metadata": {},
   "outputs": [],
   "source": [
    "#Skew-normal PDF\n",
    "def p_skew(v,sample) :\n",
    "    alpha = sample['alpha']\n",
    "    mu    = sample['mu']\n",
    "    sigma = sample['sigma']\n",
    "    p = 1/np.sqrt(2.0*np.pi*sigma**2)*np.exp(-(v-mu)**2/(2.0*sigma**2))*scsp.erfc(-alpha*(v-mu)/np.sqrt(2.0*sigma**2))\n",
    "    return p"
   ]
  },
  {
   "cell_type": "code",
   "execution_count": 2,
   "metadata": {},
   "outputs": [],
   "source": [
    "def Save_data(MP_dict, filename) :\n",
    "    #Copy data into non np array dict for json formating\n",
    "    No_np = {}\n",
    "    for key in MP_dict : No_np[key] = [v for v in MP_dict[key]]\n",
    "    with open(filename, 'w') as outfile:  \n",
    "        json.dump(No_np, outfile)\n",
    "    \n",
    "def Load_data(filename) :\n",
    "    MP_dict = {}\n",
    "    with open(filename, 'r') as outfile:  \n",
    "        MP_dict = json.load(outfile)\n",
    "    #Converting arrays in np array\n",
    "    for key in MP_dict : MP_dict[key] = np.array(MP_dict[key])\n",
    "    return MP_dict"
   ]
  },
  {
   "cell_type": "code",
   "execution_count": 3,
   "metadata": {},
   "outputs": [],
   "source": [
    "def Extract_param (fname, param, DIR) :\n",
    "    p_dict = {}\n",
    "    for p_ in param :\n",
    "        k  = 0\n",
    "        for i in range(len(DIR),len(fname)) :\n",
    "            if fname[i:i+len(p_)] == p_ :\n",
    "                k = i+len(p_)\n",
    "                break\n",
    "        v_ = ''\n",
    "        while (fname[k] != '_' and fname[k:k+2] != '.d') :\n",
    "            v_ += fname[k]\n",
    "            k  += 1\n",
    "        p_dict[p_] = float(v_)\n",
    "    return p_dict"
   ]
  },
  {
   "cell_type": "code",
   "execution_count": 4,
   "metadata": {},
   "outputs": [],
   "source": [
    "def time_step_analysis(t_ssl,key) :\n",
    "    dt         = [t1-t0 for (t1,t0) in zip(t_ssl[1:],t_ssl[:-1]) if t1-t0 > 0]\n",
    "    dt_hist    = Extract_pdf(dt,50)\n",
    "    dtDNS_mean = np.mean(dt)\n",
    "    dtDNS_std  = np.std(dt)\n",
    "    return (key, dt_hist, dtDNS_mean, dtDNS_std)\n",
    "    \n",
    "def parallel_time_step_analysis(t_dict) :\n",
    "    dt_hist        = {}\n",
    "    dtDNS_mean     = {}\n",
    "    dtDNS_std      = {}\n",
    "    results  = Parallel(n_jobs=NCORES_MAX)(delayed(time_step_analysis)(t_dict[key],key) for key in KEYS)\n",
    "    for (k_,h_,m_,s_) in results :\n",
    "        dt_hist[k_]    = h_.tolist()\n",
    "        dtDNS_mean[k_] = [m_]\n",
    "        dtDNS_std[k_]  = [s_]\n",
    "    return dt_hist, dtDNS_mean, dtDNS_std"
   ]
  },
  {
   "cell_type": "code",
   "execution_count": 5,
   "metadata": {},
   "outputs": [],
   "source": [
    "## Some useful functions to handle pdf\n",
    "def Save_pdf(pdf_dict, filename) :\n",
    "    #Copy data into non np array dict for json formating\n",
    "    x = {}\n",
    "    y = {}\n",
    "    for key in pdf_dict : x[key] = [v for v in pdf_dict[key][0]]\n",
    "    for key in pdf_dict : y[key] = [v for v in pdf_dict[key][1]]\n",
    "    with open(filename, 'w') as outfile:  \n",
    "        json.dump([x,y], outfile)\n",
    "        \n",
    "def Load_pdf(filename) :\n",
    "    x = {}\n",
    "    y = {} \n",
    "    pdf_ = {}\n",
    "    with open(filename, 'r') as outfile:  \n",
    "        data = json.load(outfile)\n",
    "    x = data[0]\n",
    "    y = data[1]\n",
    "    for key in x : pdf_[key] = [np.array(x[key]),np.array(y[key])]    \n",
    "    return pdf_\n",
    "\n",
    "def Extract_pdf(data_, nbins = 500, dst = True) :\n",
    "    pdf_ = np.histogram(data_, bins = nbins, density = dst);\n",
    "    pdf_ = np.array([pdf_[1][0:-1], pdf_[0]])\n",
    "    return pdf_"
   ]
  },
  {
   "cell_type": "code",
   "execution_count": 6,
   "metadata": {},
   "outputs": [],
   "source": [
    "def Return_mean(pdf_) :\n",
    "    x = pdf_[0]; y = pdf_[1];\n",
    "    return np.sum(x*y)/np.sum(y)\n",
    "\n",
    "def Return_std(pdf_) :\n",
    "    x    = pdf_[0]; y = pdf_[1];\n",
    "    mu = Return_mean(pdf_)\n",
    "    std  = np.sqrt(np.sum([(x_ - mu)**2*y_ for (x_,y_) in zip(x,y)])/np.sum(y))\n",
    "    return std\n",
    "\n",
    "def Return_skew(pdf_) :\n",
    "    x    = pdf_[0]; y = pdf_[1];\n",
    "    mu   = Return_mean(pdf_)\n",
    "    std  = Return_std(pdf_)\n",
    "    skew = np.sum([((x_ - mu)/std)**3*y_ for (x_,y_) in zip(x,y)])/np.sum(y)\n",
    "    return skew\n",
    "\n",
    "def mean_crossing_time(tdata) :\n",
    "    T_  = []\n",
    "    tm1 = 0\n",
    "    for t_ in tdata :\n",
    "        if tm1 > t_ : #If time is set to zero again (= end of the stream line)\n",
    "            T_.append(tm1)\n",
    "        tm1 = t_\n",
    "    N_  = len(T_)\n",
    "    mean_ = sum(T_)/N_\n",
    "    return mean_"
   ]
  }
 ],
 "metadata": {
  "kernelspec": {
   "display_name": "Python 3",
   "language": "python",
   "name": "python3"
  },
  "language_info": {
   "codemirror_mode": {
    "name": "ipython",
    "version": 3
   },
   "file_extension": ".py",
   "mimetype": "text/x-python",
   "name": "python",
   "nbconvert_exporter": "python",
   "pygments_lexer": "ipython3",
   "version": "3.7.1"
  }
 },
 "nbformat": 4,
 "nbformat_minor": 2
}
