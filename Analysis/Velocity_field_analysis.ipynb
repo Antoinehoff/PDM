{
 "cells": [
  {
   "cell_type": "markdown",
   "metadata": {},
   "source": [
    "# Velocity field analysis "
   ]
  },
  {
   "cell_type": "code",
   "execution_count": 1,
   "metadata": {},
   "outputs": [],
   "source": [
    "from mpl_toolkits import mplot3d\n",
    "import numpy as np\n",
    "import matplotlib.pyplot as plt\n",
    "import time\n",
    "import os.path\n",
    "import json\n",
    "DIR  = 'C:/Users/Antoine/Documents/Etudes/Master CSE/pdm/data/' #On laptop\n",
    "#DIR  = 'D:/pdm_data/'"
   ]
  },
  {
   "cell_type": "code",
   "execution_count": 2,
   "metadata": {},
   "outputs": [],
   "source": [
    "N    = 300\n",
    "#Load on HDD\n",
    "if os.path.isfile('D:/PDM_data/Bentheimer300/Ux.dat') :\n",
    "    ux   = np.loadtxt('D:/PDM_data/Bentheimer300/Ux.dat')\n",
    "    uy   = np.loadtxt('D:/PDM_data/Bentheimer300/Uy.dat')\n",
    "    uz   = np.loadtxt('D:/PDM_data/Bentheimer300/Uz.dat')\n",
    "#Load on SDD\n",
    "else :\n",
    "    ux   = np.loadtxt('../data/Bentheimer300/Ux.dat')\n",
    "    uy   = np.loadtxt('../data/Bentheimer300/Uy.dat')\n",
    "    uz   = np.loadtxt('../data/Bentheimer300/Uz.dat')"
   ]
  },
  {
   "cell_type": "code",
   "execution_count": 3,
   "metadata": {},
   "outputs": [
    {
     "name": "stdout",
     "output_type": "stream",
     "text": [
      "Shape : (90000, 300)\n",
      "Overall Means : ux = 3.918195014621102e-06, uy = -1.0156482644363791e-07, uz = 2.726992976899063e-07\n"
     ]
    }
   ],
   "source": [
    "uxmean = ux.mean()\n",
    "uymean = uy.mean()\n",
    "uzmean = uz.mean()\n",
    "print ( 'Shape : ' + str(ux.shape))\n",
    "print ( 'Overall Means : ux = '+str(uxmean)+ ', uy = '+str(uymean)+', uz = '+str(uzmean))"
   ]
  },
  {
   "cell_type": "code",
   "execution_count": 4,
   "metadata": {},
   "outputs": [
    {
     "name": "stdout",
     "output_type": "stream",
     "text": [
      "Inlet Means : ux = 1.2834873480490838e-09, uy = -2.142525956808613e-10, uz = 3.891557970502053e-11\n"
     ]
    }
   ],
   "source": [
    "phi = 0.2\n",
    "uux = ux.reshape(N**3)\n",
    "uuy = uy.reshape(N**3)\n",
    "uuz = uz.reshape(N**3)\n",
    "Uxmean = Uymean = Uzmean = 0\n",
    "for (i2,i3) in zip(range(N),range(N)) :\n",
    "    i1 = 0\n",
    "    Uxmean += uux[N**2*i3 + N*i2 + i1]\n",
    "    Uymean += uuy[N**2*i3 + N*i2 + i1]\n",
    "    Uzmean += uuz[N**2*i3 + N*i2 + i1]\n",
    "Uxmean /= (N**2)/phi\n",
    "Uymean /= (N**2)/phi\n",
    "Uzmean /= (N**2)/phi\n",
    "print ( 'Inlet Means : ux = '+str(Uxmean)+ ', uy = '+str(Uymean)+', uz = '+str(Uzmean))"
   ]
  },
  {
   "cell_type": "markdown",
   "metadata": {},
   "source": [
    "### Eulerian x,y,z velocity PDF"
   ]
  },
  {
   "cell_type": "code",
   "execution_count": 5,
   "metadata": {
    "scrolled": false
   },
   "outputs": [
    {
     "data": {
      "text/plain": [
       "Text(0.5, 0, '$u/U$')"
      ]
     },
     "execution_count": 5,
     "metadata": {},
     "output_type": "execute_result"
    },
    {
     "data": {
      "image/png": "[encoded data removed]",
      "text/plain": [
       "<Figure size 432x288 with 3 Axes>"
      ]
     },
     "metadata": {
      "needs_background": "light"
     },
     "output_type": "display_data"
    }
   ],
   "source": [
    "#Log velocity magnitude\n",
    "U=uxmean\n",
    "fig, axs = plt.subplots(3,1, sharex = True)\n",
    "NBINS=100\n",
    "#UX\n",
    "axs[0].hist(ux.reshape(N**3)/U, bins = NBINS, density = True, log = True);\n",
    "axs[0].set_ylabel(r'$p(u_x)$')\n",
    "#UY\n",
    "axs[1].hist(uy.reshape(N**3)/U, bins = NBINS, density = True, log = True);\n",
    "axs[1].set_ylabel(r'$p(u_y)$')\n",
    "#UZ\n",
    "axs[2].hist(uz.reshape(N**3)/U, bins = NBINS, density = True, log = True);\n",
    "axs[2].set_ylabel(r'$p(u_z)$')\n",
    "axs[2].set_xlabel(r'$u/U$')"
   ]
  },
  {
   "cell_type": "markdown",
   "metadata": {},
   "source": [
    "### Eulerian log velocity magnitude"
   ]
  },
  {
   "cell_type": "code",
   "execution_count": 6,
   "metadata": {},
   "outputs": [
    {
     "name": "stdout",
     "output_type": "stream",
     "text": [
      "(27000000,), Vm min = 0.0, Vm max = 139.30479234291366\n"
     ]
    }
   ],
   "source": [
    "Vm = np.sqrt(ux*ux + uy*uy + uz*uz)/U\n",
    "Vm = Vm.reshape(N*N*N);\n",
    "Vm_min=min(Vm)\n",
    "Vm_max=max(Vm)\n",
    "print(str(Vm.shape)+', Vm min = '+str(Vm_min)+', Vm max = '+str(Vm_max))"
   ]
  },
  {
   "cell_type": "code",
   "execution_count": 13,
   "metadata": {},
   "outputs": [],
   "source": [
    "NBINS=100\n",
    "Uref = 1.0# 4.63e-06\n",
    "#Ui histograms\n",
    "'''\n",
    "fig, ax = plt.subplots(1,1)\n",
    "ax.hist((ux.reshape(N*N*N)/U), bins = NBINS, normed = True, alpha = 0.5);\n",
    "ax.hist((uy.reshape(N*N*N)/U), bins = NBINS, normed = True, alpha = 0.5);\n",
    "ax.hist((uz.reshape(N*N*N)/U), bins = NBINS, normed = True, alpha = 0.5);\n",
    "'''\n",
    "\n",
    "#Log velocity magnitude\n",
    "logVm = [np.log(v_/Uref) for v_ in Vm if v_ > 0]"
   ]
  },
  {
   "cell_type": "code",
   "execution_count": 14,
   "metadata": {
    "scrolled": false
   },
   "outputs": [
    {
     "data": {
      "text/plain": [
       "Text(0.5, 0, '$v_e$')"
      ]
     },
     "execution_count": 14,
     "metadata": {},
     "output_type": "execute_result"
    },
    {
     "data": {
      "image/png": "[encoded data removed]",
      "text/plain": [
       "<Figure size 432x288 with 1 Axes>"
      ]
     },
     "metadata": {
      "needs_background": "light"
     },
     "output_type": "display_data"
    }
   ],
   "source": [
    "fig, ax = plt.subplots(1,1)\n",
    "hist=ax.hist(logVm, bins = NBINS,  density = True, log = False)\n",
    "ax.set_title('Log velocity magnitude PDF')\n",
    "ax.set_ylabel(r'$p(v_e)$')\n",
    "ax.set_xlabel(r'$v_e$')"
   ]
  },
  {
   "cell_type": "code",
   "execution_count": 15,
   "metadata": {},
   "outputs": [],
   "source": [
    "def Extract_pdf(data_, nbins = 500, dst = True) :\n",
    "    pdf_ = np.histogram(data_, bins = nbins, density = dst);\n",
    "    pdf_ = np.array([pdf_[1][0:-1], pdf_[0]])\n",
    "    return pdf_\n",
    "def Save_pdf(pdf_dict, filename) :\n",
    "    #Copy data into non np array dict for json formating\n",
    "    x = {}\n",
    "    y = {}\n",
    "    for key in pdf_dict : x[key] = [v for v in pdf_dict[key][0]]\n",
    "    for key in pdf_dict : y[key] = [v for v in pdf_dict[key][1]]\n",
    "    with open(filename, 'w') as outfile:  \n",
    "        json.dump([x,y], outfile)"
   ]
  },
  {
   "cell_type": "code",
   "execution_count": 16,
   "metadata": {},
   "outputs": [],
   "source": [
    "lvmpdf = Extract_pdf(logVm)"
   ]
  },
  {
   "cell_type": "code",
   "execution_count": 18,
   "metadata": {},
   "outputs": [
    {
     "data": {
      "text/plain": [
       "Text(0.5, 0, '$v_e$')"
      ]
     },
     "execution_count": 18,
     "metadata": {},
     "output_type": "execute_result"
    },
    {
     "data": {
      "image/png": "[encoded data removed]",
      "text/plain": [
       "<Figure size 432x288 with 1 Axes>"
      ]
     },
     "metadata": {
      "needs_background": "light"
     },
     "output_type": "display_data"
    }
   ],
   "source": [
    "fig, ax = plt.subplots(1,1)\n",
    "ax.plot(lvmpdf[0], lvmpdf[1])\n",
    "ax.set_title('Log velocity magnitude PDF')\n",
    "ax.set_ylabel(r'$p(v_e)$')\n",
    "ax.set_xlabel(r'$v_e$')"
   ]
  },
  {
   "cell_type": "code",
   "execution_count": 19,
   "metadata": {},
   "outputs": [
    {
     "name": "stdout",
     "output_type": "stream",
     "text": [
      "Saving log velocity magnitude PDF..\n",
      "done.\n"
     ]
    }
   ],
   "source": [
    "print('Saving log velocity magnitude PDF..')\n",
    "tosave = {'Bentheimer1000' : lvmpdf }\n",
    "fname  =  DIR+'Processed_data/bentheimer1000lvmpdf.dat'\n",
    "Save_pdf(tosave,fname)\n",
    "print('done.')"
   ]
  },
  {
   "cell_type": "code",
   "execution_count": null,
   "metadata": {},
   "outputs": [],
   "source": []
  }
 ],
 "metadata": {
  "kernelspec": {
   "display_name": "Python 3",
   "language": "python",
   "name": "python3"
  },
  "language_info": {
   "codemirror_mode": {
    "name": "ipython",
    "version": 3
   },
   "file_extension": ".py",
   "mimetype": "text/x-python",
   "name": "python",
   "nbconvert_exporter": "python",
   "pygments_lexer": "ipython3",
   "version": "3.7.1"
  }
 },
 "nbformat": 4,
 "nbformat_minor": 2
}
